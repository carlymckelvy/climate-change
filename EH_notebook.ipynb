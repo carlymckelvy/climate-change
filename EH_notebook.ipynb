{
 "cells": [
  {
   "cell_type": "code",
   "execution_count": 1,
   "metadata": {},
   "outputs": [],
   "source": [
    "# import dependencies\n",
    "import os\n",
    "import pandas as pd\n",
    "import numpy as np\n",
    "# import pymongo\n",
    "# from pymongo import MongoClient\n",
    "import sqlalchemy\n",
    "from sqlalchemy.ext.automap import automap_base\n",
    "from sqlalchemy.orm import Session\n",
    "from sqlalchemy import create_engine, func, inspect\n",
    "import warnings\n",
    "warnings.filterwarnings('ignore')\n"
   ]
  },
  {
   "cell_type": "code",
   "execution_count": 2,
   "metadata": {
    "scrolled": true
   },
   "outputs": [],
   "source": [
    "# read in hurricane data\n",
    "hurricane_data_df = pd.read_csv(\"static/data/atlantic.csv\", encoding='utf-8')\n",
    "# hurricane_data_df.head()"
   ]
  },
  {
   "cell_type": "markdown",
   "metadata": {},
   "source": [
    "Ocean Temps data info:\n",
    "Units: Degrees Celsius\n",
    "Base Period: 1901-2000"
   ]
  },
  {
   "cell_type": "code",
   "execution_count": 3,
   "metadata": {
    "scrolled": true
   },
   "outputs": [
    {
     "data": {
      "text/html": [
       "<div>\n",
       "<style scoped>\n",
       "    .dataframe tbody tr th:only-of-type {\n",
       "        vertical-align: middle;\n",
       "    }\n",
       "\n",
       "    .dataframe tbody tr th {\n",
       "        vertical-align: top;\n",
       "    }\n",
       "\n",
       "    .dataframe thead th {\n",
       "        text-align: right;\n",
       "    }\n",
       "</style>\n",
       "<table border=\"1\" class=\"dataframe\">\n",
       "  <thead>\n",
       "    <tr style=\"text-align: right;\">\n",
       "      <th></th>\n",
       "      <th>Year</th>\n",
       "      <th>Value</th>\n",
       "    </tr>\n",
       "  </thead>\n",
       "  <tbody>\n",
       "    <tr>\n",
       "      <th>0</th>\n",
       "      <td>1880</td>\n",
       "      <td>-0.11</td>\n",
       "    </tr>\n",
       "    <tr>\n",
       "      <th>1</th>\n",
       "      <td>1881</td>\n",
       "      <td>-0.16</td>\n",
       "    </tr>\n",
       "    <tr>\n",
       "      <th>2</th>\n",
       "      <td>1882</td>\n",
       "      <td>-0.1</td>\n",
       "    </tr>\n",
       "    <tr>\n",
       "      <th>3</th>\n",
       "      <td>1883</td>\n",
       "      <td>-0.18</td>\n",
       "    </tr>\n",
       "    <tr>\n",
       "      <th>4</th>\n",
       "      <td>1884</td>\n",
       "      <td>-0.29</td>\n",
       "    </tr>\n",
       "  </tbody>\n",
       "</table>\n",
       "</div>"
      ],
      "text/plain": [
       "   Year  Value\n",
       "0  1880  -0.11\n",
       "1  1881  -0.16\n",
       "2  1882   -0.1\n",
       "3  1883  -0.18\n",
       "4  1884  -0.29"
      ]
     },
     "execution_count": 3,
     "metadata": {},
     "output_type": "execute_result"
    }
   ],
   "source": [
    "# read in ocean temps data (nothing to do here)\n",
    "oceantemps_data_df = pd.read_csv(\"static/data/oceantemps.csv\", encoding='utf-8')\n",
    "oceantemps_data_df[\"Year\"] = oceantemps_data_df[\"Year\"].astype(str)\n",
    "oceantemps_data_df[\"Value\"] = oceantemps_data_df[\"Value\"].astype(str)\n",
    "oceantemps_data_df.head()"
   ]
  },
  {
   "cell_type": "code",
   "execution_count": 4,
   "metadata": {},
   "outputs": [],
   "source": [
    "# read in annual CO2 data (Justan's - has more data points for his graph)\n",
    "complete_co2_data_df = pd.read_csv(\"static/assets/data/c02.csv\", encoding='utf-8')\n",
    "complete_co2_data_df[\"year\"] = complete_co2_data_df[\"year\"].astype(str)\n",
    "# complete_co2_data_df.head()"
   ]
  },
  {
   "cell_type": "code",
   "execution_count": 5,
   "metadata": {},
   "outputs": [],
   "source": [
    "# reduce data frame to just have year and mean co2 for each year\n",
    "complete_co2 = complete_co2_data_df[['year', 'monthly_average']]\n",
    "meancomplete_co2 = complete_co2.groupby('year').mean()\n",
    "# meancomplete_co2.head()"
   ]
  },
  {
   "cell_type": "code",
   "execution_count": 6,
   "metadata": {},
   "outputs": [],
   "source": [
    "# #  rename dataframe to use for calculating percentage change year/year of co2\n",
    "# perchange_co2 = meancomplete_co2"
   ]
  },
  {
   "cell_type": "code",
   "execution_count": 7,
   "metadata": {},
   "outputs": [],
   "source": [
    "# round to 2 decimal places and reset index\n",
    "meancomplete_co2 = meancomplete_co2.round(2)\n",
    "meancomplete_co2_df = meancomplete_co2.reset_index()\n",
    "# meancomplete_co2_df.head()"
   ]
  },
  {
   "cell_type": "code",
   "execution_count": 8,
   "metadata": {},
   "outputs": [
    {
     "data": {
      "text/html": [
       "<div>\n",
       "<style scoped>\n",
       "    .dataframe tbody tr th:only-of-type {\n",
       "        vertical-align: middle;\n",
       "    }\n",
       "\n",
       "    .dataframe tbody tr th {\n",
       "        vertical-align: top;\n",
       "    }\n",
       "\n",
       "    .dataframe thead th {\n",
       "        text-align: right;\n",
       "    }\n",
       "</style>\n",
       "<table border=\"1\" class=\"dataframe\">\n",
       "  <thead>\n",
       "    <tr style=\"text-align: right;\">\n",
       "      <th></th>\n",
       "      <th>year</th>\n",
       "      <th>meanco2</th>\n",
       "    </tr>\n",
       "  </thead>\n",
       "  <tbody>\n",
       "    <tr>\n",
       "      <th>0</th>\n",
       "      <td>1958</td>\n",
       "      <td>315.23</td>\n",
       "    </tr>\n",
       "    <tr>\n",
       "      <th>1</th>\n",
       "      <td>1959</td>\n",
       "      <td>315.98</td>\n",
       "    </tr>\n",
       "    <tr>\n",
       "      <th>2</th>\n",
       "      <td>1960</td>\n",
       "      <td>316.91</td>\n",
       "    </tr>\n",
       "    <tr>\n",
       "      <th>3</th>\n",
       "      <td>1961</td>\n",
       "      <td>317.64</td>\n",
       "    </tr>\n",
       "    <tr>\n",
       "      <th>4</th>\n",
       "      <td>1962</td>\n",
       "      <td>318.45</td>\n",
       "    </tr>\n",
       "  </tbody>\n",
       "</table>\n",
       "</div>"
      ],
      "text/plain": [
       "   year meanco2\n",
       "0  1958  315.23\n",
       "1  1959  315.98\n",
       "2  1960  316.91\n",
       "3  1961  317.64\n",
       "4  1962  318.45"
      ]
     },
     "execution_count": 8,
     "metadata": {},
     "output_type": "execute_result"
    }
   ],
   "source": [
    "# rename the columns and this is final dataframe for year/mean co2 levels\n",
    "meancomplete_co2_df.rename(columns={'year': 'year', 'monthly_average': 'meanco2'}, inplace=True)\n",
    "meancomplete_co2_df[\"year\"] = meancomplete_co2_df[\"year\"].astype(str)\n",
    "meancomplete_co2_df[\"meanco2\"] = meancomplete_co2_df[\"meanco2\"].astype(str)\n",
    "meancomplete_co2_df.head()"
   ]
  },
  {
   "cell_type": "code",
   "execution_count": 9,
   "metadata": {},
   "outputs": [],
   "source": [
    "# use perchange_co2 = meancomplete_co2 to calculate year/year percentage change of co2 data\n",
    "# perchange_co2.head()"
   ]
  },
  {
   "cell_type": "code",
   "execution_count": 10,
   "metadata": {},
   "outputs": [],
   "source": [
    "# # calculate percentage change year/year of co2 data/round/ and reset index\n",
    "# perchange_co2_df = perchange_co2.pct_change()\n",
    "# perchange_co2_df = perchange_co2_df.round(3)\n",
    "# perchange_co2_df = perchange_co2_df.reset_index()\n",
    "# perchange_co2_df.tail()"
   ]
  },
  {
   "cell_type": "code",
   "execution_count": 11,
   "metadata": {},
   "outputs": [],
   "source": [
    "# # rename the columns and this is final dataframe for year/year percentage change co2 levels\n",
    "# perchange_co2_df.rename(columns={'year': 'year', 'monthly_average': 'co2change'}, inplace=True)\n",
    "# perchange_co2_df[\"year\"] = perchange_co2_df[\"year\"].astype(str)\n",
    "# perchange_co2_df.head()"
   ]
  },
  {
   "cell_type": "code",
   "execution_count": 12,
   "metadata": {},
   "outputs": [],
   "source": [
    "# print(perchange_co2_df.dtypes)"
   ]
  },
  {
   "cell_type": "code",
   "execution_count": 13,
   "metadata": {},
   "outputs": [],
   "source": [
    "# perchange_co2_df.to_csv(\"static/data/perchange_co2.csv\", encoding='utf-8')"
   ]
  },
  {
   "cell_type": "code",
   "execution_count": 14,
   "metadata": {},
   "outputs": [],
   "source": [
    "# read in annual co2 data (don't use this csv!!!)\n",
    "# mean_co2_data_df = pd.read_csv(\"static/data/co2_annmean_mlo.csv\", encoding='utf-8')\n",
    "# mean_co2_data_df.head(5)\n"
   ]
  },
  {
   "cell_type": "code",
   "execution_count": 15,
   "metadata": {},
   "outputs": [],
   "source": [
    "# rename columns - wont' let you use column names - \"not in index\"\n",
    "#yearmean_co2 = mean_co2_data_df[['year', 'micromol_mol_mean']]\n",
    "#yearmean_co2.head()"
   ]
  },
  {
   "cell_type": "code",
   "execution_count": 16,
   "metadata": {},
   "outputs": [],
   "source": [
    "# reduce columns for hurricane data to what we need \n",
    "cropHurr = hurricane_data_df[[\"ID\", \"Name\", \"Date\", \"Time\", \"Event\", \"Status\", \"Latitude\", \"Longitude\", \"Maximum Wind\"]]\n",
    "# cropHurr.head()"
   ]
  },
  {
   "cell_type": "code",
   "execution_count": 17,
   "metadata": {},
   "outputs": [],
   "source": [
    "# to calculate percentage change for storms year/year\n",
    "# groupby ID to explore unique ID/status data - some storms never become hurricanes\n",
    "cropHurrgroup = cropHurr.groupby(['ID', 'Status']).mean()\n",
    "# cropHurrgroup.tail(10)"
   ]
  },
  {
   "cell_type": "code",
   "execution_count": 18,
   "metadata": {},
   "outputs": [],
   "source": [
    "# find the last id's used in the data to isolate unique storms\n",
    "cropHurrlast = cropHurr.groupby('ID').last()\n",
    "# cropHurrlast.tail()"
   ]
  },
  {
   "cell_type": "code",
   "execution_count": 19,
   "metadata": {},
   "outputs": [],
   "source": [
    "# drop last 4 characters for 'Date' to isolate year (not include month/day)\n",
    "# reset index\n",
    "cropHurrlast[\"Date\"] = cropHurrlast[\"Date\"].astype(str).str[:-4]\n",
    "cropHurrlast = cropHurrlast.reset_index()\n",
    "# cropHurrlast.tail()"
   ]
  },
  {
   "cell_type": "code",
   "execution_count": 20,
   "metadata": {},
   "outputs": [],
   "source": [
    "# group by 'Date' to get counts of storms for each year\n",
    "# reset index\n",
    "cropHurrlastgroup = cropHurrlast.groupby('Date').count()\n",
    "# cropHurrlastgroup.tail()"
   ]
  },
  {
   "cell_type": "code",
   "execution_count": 21,
   "metadata": {},
   "outputs": [
    {
     "data": {
      "text/html": [
       "<div>\n",
       "<style scoped>\n",
       "    .dataframe tbody tr th:only-of-type {\n",
       "        vertical-align: middle;\n",
       "    }\n",
       "\n",
       "    .dataframe tbody tr th {\n",
       "        vertical-align: top;\n",
       "    }\n",
       "\n",
       "    .dataframe thead th {\n",
       "        text-align: right;\n",
       "    }\n",
       "</style>\n",
       "<table border=\"1\" class=\"dataframe\">\n",
       "  <thead>\n",
       "    <tr style=\"text-align: right;\">\n",
       "      <th></th>\n",
       "      <th>Date</th>\n",
       "      <th>ID</th>\n",
       "    </tr>\n",
       "  </thead>\n",
       "  <tbody>\n",
       "    <tr>\n",
       "      <th>160</th>\n",
       "      <td>2011</td>\n",
       "      <td>20</td>\n",
       "    </tr>\n",
       "    <tr>\n",
       "      <th>161</th>\n",
       "      <td>2012</td>\n",
       "      <td>19</td>\n",
       "    </tr>\n",
       "    <tr>\n",
       "      <th>162</th>\n",
       "      <td>2013</td>\n",
       "      <td>15</td>\n",
       "    </tr>\n",
       "    <tr>\n",
       "      <th>163</th>\n",
       "      <td>2014</td>\n",
       "      <td>9</td>\n",
       "    </tr>\n",
       "    <tr>\n",
       "      <th>164</th>\n",
       "      <td>2015</td>\n",
       "      <td>12</td>\n",
       "    </tr>\n",
       "  </tbody>\n",
       "</table>\n",
       "</div>"
      ],
      "text/plain": [
       "     Date  ID\n",
       "160  2011  20\n",
       "161  2012  19\n",
       "162  2013  15\n",
       "163  2014   9\n",
       "164  2015  12"
      ]
     },
     "execution_count": 21,
     "metadata": {},
     "output_type": "execute_result"
    }
   ],
   "source": [
    "# reduce columns for just year and ID (storm counts/year)(don't reset index yet - do % change first)\n",
    "hurrCount = cropHurrlastgroup[['ID']]\n",
    "hurrCount = hurrCount.reset_index()\n",
    "hurrCount.tail()"
   ]
  },
  {
   "cell_type": "code",
   "execution_count": 22,
   "metadata": {},
   "outputs": [],
   "source": [
    "# # perform percentage change function to calculate changes from year to year (round to 3 decimal places)\n",
    "# # reset index\n",
    "# stormpercent_change_df = cropHurrlastgroup_df.pct_change()\n",
    "# stormpercent_change_df = stormpercent_change_df.round(3)\n",
    "# stormpercent_change_df = stormpercent_change_df.reset_index()\n",
    "# stormpercent_change_df.tail()"
   ]
  },
  {
   "cell_type": "code",
   "execution_count": 23,
   "metadata": {},
   "outputs": [],
   "source": [
    "# # rename columns for % change of storms for each year\n",
    "# stormpercent_change_df.rename(columns={'Date': 'year', 'ID': 'stormchange'}, inplace=True)\n",
    "# stormpercent_change_df.head()"
   ]
  },
  {
   "cell_type": "code",
   "execution_count": 24,
   "metadata": {},
   "outputs": [],
   "source": [
    "# print(stormpercent_change_df.dtypes)"
   ]
  },
  {
   "cell_type": "code",
   "execution_count": 25,
   "metadata": {},
   "outputs": [],
   "source": [
    "# stormpercent_change_df.to_csv(\"static/data/stormpercent_change.csv\", encoding='utf-8')"
   ]
  },
  {
   "cell_type": "code",
   "execution_count": 26,
   "metadata": {},
   "outputs": [],
   "source": [
    "# # check datatypes for hurricane data\n",
    "# print(cropHurr.dtypes)"
   ]
  },
  {
   "cell_type": "code",
   "execution_count": 27,
   "metadata": {},
   "outputs": [],
   "source": [
    "# remove last characters from latitude 'N' and longitude 'W' columns\n",
    "cropHurr[\"Latitude\"] = cropHurr[\"Latitude\"].astype(str).str[:-1]\n",
    "cropHurr[\"Longitude\"] = cropHurr[\"Longitude\"].astype(str).str[:-1]\n",
    "# cropHurr.head()"
   ]
  },
  {
   "cell_type": "code",
   "execution_count": 28,
   "metadata": {},
   "outputs": [],
   "source": [
    "# make W - longitude values negative \n",
    "cropHurr.Longitude = cropHurr.Longitude.astype(float)*(-1)"
   ]
  },
  {
   "cell_type": "code",
   "execution_count": 29,
   "metadata": {},
   "outputs": [
    {
     "data": {
      "text/html": [
       "<div>\n",
       "<style scoped>\n",
       "    .dataframe tbody tr th:only-of-type {\n",
       "        vertical-align: middle;\n",
       "    }\n",
       "\n",
       "    .dataframe tbody tr th {\n",
       "        vertical-align: top;\n",
       "    }\n",
       "\n",
       "    .dataframe thead th {\n",
       "        text-align: right;\n",
       "    }\n",
       "</style>\n",
       "<table border=\"1\" class=\"dataframe\">\n",
       "  <thead>\n",
       "    <tr style=\"text-align: right;\">\n",
       "      <th></th>\n",
       "      <th>ID</th>\n",
       "      <th>Name</th>\n",
       "      <th>Date</th>\n",
       "      <th>Time</th>\n",
       "      <th>Event</th>\n",
       "      <th>Status</th>\n",
       "      <th>Latitude</th>\n",
       "      <th>Longitude</th>\n",
       "      <th>Maximum Wind</th>\n",
       "      <th>Year</th>\n",
       "    </tr>\n",
       "  </thead>\n",
       "  <tbody>\n",
       "    <tr>\n",
       "      <th>0</th>\n",
       "      <td>AL011851</td>\n",
       "      <td>UNNAMED</td>\n",
       "      <td>1851-06-25</td>\n",
       "      <td>0</td>\n",
       "      <td></td>\n",
       "      <td>HU</td>\n",
       "      <td>28.0</td>\n",
       "      <td>-94.8</td>\n",
       "      <td>80</td>\n",
       "      <td>1851</td>\n",
       "    </tr>\n",
       "    <tr>\n",
       "      <th>1</th>\n",
       "      <td>AL011851</td>\n",
       "      <td>UNNAMED</td>\n",
       "      <td>1851-06-25</td>\n",
       "      <td>600</td>\n",
       "      <td></td>\n",
       "      <td>HU</td>\n",
       "      <td>28.0</td>\n",
       "      <td>-95.4</td>\n",
       "      <td>80</td>\n",
       "      <td>1851</td>\n",
       "    </tr>\n",
       "    <tr>\n",
       "      <th>2</th>\n",
       "      <td>AL011851</td>\n",
       "      <td>UNNAMED</td>\n",
       "      <td>1851-06-25</td>\n",
       "      <td>1200</td>\n",
       "      <td></td>\n",
       "      <td>HU</td>\n",
       "      <td>28.0</td>\n",
       "      <td>-96.0</td>\n",
       "      <td>80</td>\n",
       "      <td>1851</td>\n",
       "    </tr>\n",
       "    <tr>\n",
       "      <th>3</th>\n",
       "      <td>AL011851</td>\n",
       "      <td>UNNAMED</td>\n",
       "      <td>1851-06-25</td>\n",
       "      <td>1800</td>\n",
       "      <td></td>\n",
       "      <td>HU</td>\n",
       "      <td>28.1</td>\n",
       "      <td>-96.5</td>\n",
       "      <td>80</td>\n",
       "      <td>1851</td>\n",
       "    </tr>\n",
       "    <tr>\n",
       "      <th>4</th>\n",
       "      <td>AL011851</td>\n",
       "      <td>UNNAMED</td>\n",
       "      <td>1851-06-25</td>\n",
       "      <td>2100</td>\n",
       "      <td>L</td>\n",
       "      <td>HU</td>\n",
       "      <td>28.2</td>\n",
       "      <td>-96.8</td>\n",
       "      <td>80</td>\n",
       "      <td>1851</td>\n",
       "    </tr>\n",
       "  </tbody>\n",
       "</table>\n",
       "</div>"
      ],
      "text/plain": [
       "         ID                 Name       Date  Time Event Status Latitude  \\\n",
       "0  AL011851              UNNAMED 1851-06-25     0           HU     28.0   \n",
       "1  AL011851              UNNAMED 1851-06-25   600           HU     28.0   \n",
       "2  AL011851              UNNAMED 1851-06-25  1200           HU     28.0   \n",
       "3  AL011851              UNNAMED 1851-06-25  1800           HU     28.1   \n",
       "4  AL011851              UNNAMED 1851-06-25  2100     L     HU     28.2   \n",
       "\n",
       "   Longitude  Maximum Wind  Year  \n",
       "0      -94.8            80  1851  \n",
       "1      -95.4            80  1851  \n",
       "2      -96.0            80  1851  \n",
       "3      -96.5            80  1851  \n",
       "4      -96.8            80  1851  "
      ]
     },
     "execution_count": 29,
     "metadata": {},
     "output_type": "execute_result"
    }
   ],
   "source": [
    "#MAIN HURRICANE DATASET TO USE\n",
    "#TO DO:  reformat date and add year column\n",
    "cleanHurr = cropHurr\n",
    "# cleanHurr = cleanHurr[\"Date\"].dt.strftime(\"%m/%d/%y\")\n",
    "cleanHurr['Date'] = pd.to_datetime(cleanHurr['Date'].astype('str'), format = '%Y/%m/%d')\n",
    "cleanHurr[\"Year\"] = cleanHurr[\"Date\"].astype(str).str[:-6]\n",
    "cleanHurr.to_csv(\"static/data/cleanHurr.csv\", encoding='utf-8')\n",
    "cleanHurr.head()"
   ]
  },
  {
   "cell_type": "code",
   "execution_count": 30,
   "metadata": {},
   "outputs": [
    {
     "data": {
      "text/html": [
       "<div>\n",
       "<style scoped>\n",
       "    .dataframe tbody tr th:only-of-type {\n",
       "        vertical-align: middle;\n",
       "    }\n",
       "\n",
       "    .dataframe tbody tr th {\n",
       "        vertical-align: top;\n",
       "    }\n",
       "\n",
       "    .dataframe thead th {\n",
       "        text-align: right;\n",
       "    }\n",
       "</style>\n",
       "<table border=\"1\" class=\"dataframe\">\n",
       "  <thead>\n",
       "    <tr style=\"text-align: right;\">\n",
       "      <th></th>\n",
       "      <th>Name</th>\n",
       "      <th>Date</th>\n",
       "      <th>Time</th>\n",
       "      <th>Event</th>\n",
       "      <th>Status</th>\n",
       "      <th>Latitude</th>\n",
       "      <th>Longitude</th>\n",
       "      <th>Maximum Wind</th>\n",
       "      <th>Year</th>\n",
       "    </tr>\n",
       "    <tr>\n",
       "      <th>ID</th>\n",
       "      <th></th>\n",
       "      <th></th>\n",
       "      <th></th>\n",
       "      <th></th>\n",
       "      <th></th>\n",
       "      <th></th>\n",
       "      <th></th>\n",
       "      <th></th>\n",
       "      <th></th>\n",
       "    </tr>\n",
       "  </thead>\n",
       "  <tbody>\n",
       "    <tr>\n",
       "      <th>AL282005</th>\n",
       "      <td>GAMMA</td>\n",
       "      <td>2005-11-22</td>\n",
       "      <td>1800</td>\n",
       "      <td></td>\n",
       "      <td>WV</td>\n",
       "      <td>17.1</td>\n",
       "      <td>-62.1</td>\n",
       "      <td>45</td>\n",
       "      <td>2005</td>\n",
       "    </tr>\n",
       "    <tr>\n",
       "      <th>AL291969</th>\n",
       "      <td>MARTHA</td>\n",
       "      <td>1969-11-25</td>\n",
       "      <td>1800</td>\n",
       "      <td></td>\n",
       "      <td>TS</td>\n",
       "      <td>9.8</td>\n",
       "      <td>-81.0</td>\n",
       "      <td>80</td>\n",
       "      <td>1969</td>\n",
       "    </tr>\n",
       "    <tr>\n",
       "      <th>AL292005</th>\n",
       "      <td>DELTA</td>\n",
       "      <td>2005-11-29</td>\n",
       "      <td>1800</td>\n",
       "      <td></td>\n",
       "      <td>TS</td>\n",
       "      <td>35.3</td>\n",
       "      <td>-1.0</td>\n",
       "      <td>60</td>\n",
       "      <td>2005</td>\n",
       "    </tr>\n",
       "    <tr>\n",
       "      <th>AL302005</th>\n",
       "      <td>EPSILON</td>\n",
       "      <td>2005-12-09</td>\n",
       "      <td>1800</td>\n",
       "      <td></td>\n",
       "      <td>TS</td>\n",
       "      <td>34.5</td>\n",
       "      <td>-33.7</td>\n",
       "      <td>75</td>\n",
       "      <td>2005</td>\n",
       "    </tr>\n",
       "    <tr>\n",
       "      <th>AL312005</th>\n",
       "      <td>ZETA</td>\n",
       "      <td>2006-01-07</td>\n",
       "      <td>1800</td>\n",
       "      <td></td>\n",
       "      <td>TS</td>\n",
       "      <td>26.3</td>\n",
       "      <td>-35.6</td>\n",
       "      <td>55</td>\n",
       "      <td>2006</td>\n",
       "    </tr>\n",
       "  </tbody>\n",
       "</table>\n",
       "</div>"
      ],
      "text/plain": [
       "                         Name       Date  Time Event Status Latitude  \\\n",
       "ID                                                                     \n",
       "AL282005                GAMMA 2005-11-22  1800           WV     17.1   \n",
       "AL291969               MARTHA 1969-11-25  1800           TS      9.8   \n",
       "AL292005                DELTA 2005-11-29  1800           TS     35.3   \n",
       "AL302005              EPSILON 2005-12-09  1800           TS     34.5   \n",
       "AL312005                 ZETA 2006-01-07  1800           TS     26.3   \n",
       "\n",
       "          Longitude  Maximum Wind  Year  \n",
       "ID                                       \n",
       "AL282005      -62.1            45  2005  \n",
       "AL291969      -81.0            80  1969  \n",
       "AL292005       -1.0            60  2005  \n",
       "AL302005      -33.7            75  2005  \n",
       "AL312005      -35.6            55  2006  "
      ]
     },
     "execution_count": 30,
     "metadata": {},
     "output_type": "execute_result"
    }
   ],
   "source": [
    "#TO DO: find max wind speed per unique storm ID\n",
    "maxWind = cleanHurr.groupby(\"ID\").max()\n",
    "maxWind.to_csv(\"static/data/maxWind.csv\", encoding='utf-8')\n",
    "maxWind.tail()"
   ]
  },
  {
   "cell_type": "code",
   "execution_count": 31,
   "metadata": {},
   "outputs": [
    {
     "data": {
      "text/html": [
       "<div>\n",
       "<style scoped>\n",
       "    .dataframe tbody tr th:only-of-type {\n",
       "        vertical-align: middle;\n",
       "    }\n",
       "\n",
       "    .dataframe tbody tr th {\n",
       "        vertical-align: top;\n",
       "    }\n",
       "\n",
       "    .dataframe thead th {\n",
       "        text-align: right;\n",
       "    }\n",
       "</style>\n",
       "<table border=\"1\" class=\"dataframe\">\n",
       "  <thead>\n",
       "    <tr style=\"text-align: right;\">\n",
       "      <th></th>\n",
       "      <th>ID</th>\n",
       "      <th>Name</th>\n",
       "      <th>Date</th>\n",
       "      <th>Time</th>\n",
       "      <th>Event</th>\n",
       "      <th>Status</th>\n",
       "      <th>Latitude</th>\n",
       "      <th>Longitude</th>\n",
       "      <th>Maximum Wind</th>\n",
       "      <th>Year</th>\n",
       "    </tr>\n",
       "  </thead>\n",
       "  <tbody>\n",
       "    <tr>\n",
       "      <th>4</th>\n",
       "      <td>AL011851</td>\n",
       "      <td>UNNAMED</td>\n",
       "      <td>1851-06-25</td>\n",
       "      <td>2100</td>\n",
       "      <td>L</td>\n",
       "      <td>HU</td>\n",
       "      <td>28.2</td>\n",
       "      <td>-96.8</td>\n",
       "      <td>80</td>\n",
       "      <td>1851</td>\n",
       "    </tr>\n",
       "    <tr>\n",
       "      <th>48</th>\n",
       "      <td>AL041851</td>\n",
       "      <td>UNNAMED</td>\n",
       "      <td>1851-08-23</td>\n",
       "      <td>2100</td>\n",
       "      <td>L</td>\n",
       "      <td>HU</td>\n",
       "      <td>30.1</td>\n",
       "      <td>-85.7</td>\n",
       "      <td>100</td>\n",
       "      <td>1851</td>\n",
       "    </tr>\n",
       "    <tr>\n",
       "      <th>96</th>\n",
       "      <td>AL061851</td>\n",
       "      <td>UNNAMED</td>\n",
       "      <td>1851-10-19</td>\n",
       "      <td>1500</td>\n",
       "      <td>L</td>\n",
       "      <td>TS</td>\n",
       "      <td>41.1</td>\n",
       "      <td>-71.7</td>\n",
       "      <td>50</td>\n",
       "      <td>1851</td>\n",
       "    </tr>\n",
       "    <tr>\n",
       "      <th>127</th>\n",
       "      <td>AL011852</td>\n",
       "      <td>UNNAMED</td>\n",
       "      <td>1852-08-26</td>\n",
       "      <td>600</td>\n",
       "      <td>L</td>\n",
       "      <td>HU</td>\n",
       "      <td>30.2</td>\n",
       "      <td>-88.6</td>\n",
       "      <td>100</td>\n",
       "      <td>1852</td>\n",
       "    </tr>\n",
       "    <tr>\n",
       "      <th>163</th>\n",
       "      <td>AL031852</td>\n",
       "      <td>UNNAMED</td>\n",
       "      <td>1852-09-12</td>\n",
       "      <td>0</td>\n",
       "      <td>L</td>\n",
       "      <td>HU</td>\n",
       "      <td>28.0</td>\n",
       "      <td>-82.8</td>\n",
       "      <td>70</td>\n",
       "      <td>1852</td>\n",
       "    </tr>\n",
       "  </tbody>\n",
       "</table>\n",
       "</div>"
      ],
      "text/plain": [
       "           ID                 Name       Date  Time Event Status Latitude  \\\n",
       "4    AL011851              UNNAMED 1851-06-25  2100     L     HU     28.2   \n",
       "48   AL041851              UNNAMED 1851-08-23  2100     L     HU     30.1   \n",
       "96   AL061851              UNNAMED 1851-10-19  1500     L     TS     41.1   \n",
       "127  AL011852              UNNAMED 1852-08-26   600     L     HU     30.2   \n",
       "163  AL031852              UNNAMED 1852-09-12     0     L     HU     28.0   \n",
       "\n",
       "     Longitude  Maximum Wind  Year  \n",
       "4        -96.8            80  1851  \n",
       "48       -85.7           100  1851  \n",
       "96       -71.7            50  1851  \n",
       "127      -88.6           100  1852  \n",
       "163      -82.8            70  1852  "
      ]
     },
     "execution_count": 31,
     "metadata": {},
     "output_type": "execute_result"
    }
   ],
   "source": [
    "#TO DO: Landfall dataset\n",
    "landfall = cleanHurr.loc[cleanHurr[\"Event\"] == \" L\"]\n",
    "landfall.to_csv(\"static/data/landfall.csv\", encoding='utf-8')\n",
    "landfall.head()"
   ]
  },
  {
   "cell_type": "markdown",
   "metadata": {},
   "source": [
    "Create database"
   ]
  },
  {
   "cell_type": "code",
   "execution_count": 32,
   "metadata": {},
   "outputs": [],
   "source": [
    "from sqlalchemy.ext.declarative import declarative_base\n",
    "Base = declarative_base()\n",
    "\n",
    "from sqlalchemy import Column, Integer, String, Float"
   ]
  },
  {
   "cell_type": "code",
   "execution_count": 33,
   "metadata": {},
   "outputs": [],
   "source": [
    "# class OceanTemp(Base):\n",
    "#     __tablename__ = 'ocean_temps'\n",
    "#     Year = Column(String(255), primary_key=True)\n",
    "#     Value = Column(String(255))"
   ]
  },
  {
   "cell_type": "code",
   "execution_count": 34,
   "metadata": {},
   "outputs": [],
   "source": [
    "# Create an engine for the sqlite database\n",
    "engine = create_engine(\"sqlite:///climateDB.sqlite\", echo=False)\n",
    "con = engine.connect()"
   ]
  },
  {
   "cell_type": "code",
   "execution_count": 35,
   "metadata": {},
   "outputs": [],
   "source": [
    "cleanHurr.to_sql(name='hurricanes', con=engine, if_exists='replace', index=False)\n",
    "hurrCount.to_sql(name='hurrCount', con=engine, if_exists='replace', index=False)\n",
    "oceantemps_data_df.to_sql(name='ocean_temps', con=engine, if_exists='replace', index=False)\n",
    "maxWind.to_sql(name='maxWind', con=engine, if_exists='replace', index=False)\n",
    "meancomplete_co2_df.to_sql(name='meancomplete_co2_df', con=engine, if_exists='replace', index=False)\n",
    "landfall.to_sql(name='landfall', con=engine, if_exists='replace', index=False)"
   ]
  },
  {
   "cell_type": "code",
   "execution_count": 36,
   "metadata": {
    "scrolled": true
   },
   "outputs": [
    {
     "data": {
      "text/html": [
       "<div>\n",
       "<style scoped>\n",
       "    .dataframe tbody tr th:only-of-type {\n",
       "        vertical-align: middle;\n",
       "    }\n",
       "\n",
       "    .dataframe tbody tr th {\n",
       "        vertical-align: top;\n",
       "    }\n",
       "\n",
       "    .dataframe thead th {\n",
       "        text-align: right;\n",
       "    }\n",
       "</style>\n",
       "<table border=\"1\" class=\"dataframe\">\n",
       "  <thead>\n",
       "    <tr style=\"text-align: right;\">\n",
       "      <th></th>\n",
       "      <th>Name</th>\n",
       "      <th>Date</th>\n",
       "      <th>Time</th>\n",
       "      <th>Event</th>\n",
       "      <th>Status</th>\n",
       "      <th>Latitude</th>\n",
       "      <th>Longitude</th>\n",
       "      <th>Maximum Wind</th>\n",
       "      <th>Year</th>\n",
       "    </tr>\n",
       "  </thead>\n",
       "  <tbody>\n",
       "    <tr>\n",
       "      <th>0</th>\n",
       "      <td>UNNAMED</td>\n",
       "      <td>1851-06-28 00:00:00.000000</td>\n",
       "      <td>2100</td>\n",
       "      <td>L</td>\n",
       "      <td>TS</td>\n",
       "      <td>31.0</td>\n",
       "      <td>-94.8</td>\n",
       "      <td>80</td>\n",
       "      <td>1851</td>\n",
       "    </tr>\n",
       "    <tr>\n",
       "      <th>1</th>\n",
       "      <td>UNNAMED</td>\n",
       "      <td>1852-08-30 00:00:00.000000</td>\n",
       "      <td>1800</td>\n",
       "      <td>L</td>\n",
       "      <td>TS</td>\n",
       "      <td>41.0</td>\n",
       "      <td>-67.1</td>\n",
       "      <td>100</td>\n",
       "      <td>1852</td>\n",
       "    </tr>\n",
       "    <tr>\n",
       "      <th>2</th>\n",
       "      <td>UNNAMED</td>\n",
       "      <td>1853-08-05 00:00:00.000000</td>\n",
       "      <td>1200</td>\n",
       "      <td></td>\n",
       "      <td>TS</td>\n",
       "      <td>32.5</td>\n",
       "      <td>-69.0</td>\n",
       "      <td>50</td>\n",
       "      <td>1853</td>\n",
       "    </tr>\n",
       "    <tr>\n",
       "      <th>3</th>\n",
       "      <td>UNNAMED</td>\n",
       "      <td>1854-06-27 00:00:00.000000</td>\n",
       "      <td>1800</td>\n",
       "      <td>L</td>\n",
       "      <td>TS</td>\n",
       "      <td>28.0</td>\n",
       "      <td>-92.5</td>\n",
       "      <td>70</td>\n",
       "      <td>1854</td>\n",
       "    </tr>\n",
       "    <tr>\n",
       "      <th>4</th>\n",
       "      <td>UNNAMED</td>\n",
       "      <td>1855-08-06 00:00:00.000000</td>\n",
       "      <td>1200</td>\n",
       "      <td></td>\n",
       "      <td>HU</td>\n",
       "      <td>22.2</td>\n",
       "      <td>-98.0</td>\n",
       "      <td>90</td>\n",
       "      <td>1855</td>\n",
       "    </tr>\n",
       "    <tr>\n",
       "      <th>...</th>\n",
       "      <td>...</td>\n",
       "      <td>...</td>\n",
       "      <td>...</td>\n",
       "      <td>...</td>\n",
       "      <td>...</td>\n",
       "      <td>...</td>\n",
       "      <td>...</td>\n",
       "      <td>...</td>\n",
       "      <td>...</td>\n",
       "    </tr>\n",
       "    <tr>\n",
       "      <th>1809</th>\n",
       "      <td>GAMMA</td>\n",
       "      <td>2005-11-22 00:00:00.000000</td>\n",
       "      <td>1800</td>\n",
       "      <td></td>\n",
       "      <td>WV</td>\n",
       "      <td>17.1</td>\n",
       "      <td>-62.1</td>\n",
       "      <td>45</td>\n",
       "      <td>2005</td>\n",
       "    </tr>\n",
       "    <tr>\n",
       "      <th>1810</th>\n",
       "      <td>MARTHA</td>\n",
       "      <td>1969-11-25 00:00:00.000000</td>\n",
       "      <td>1800</td>\n",
       "      <td></td>\n",
       "      <td>TS</td>\n",
       "      <td>9.8</td>\n",
       "      <td>-81.0</td>\n",
       "      <td>80</td>\n",
       "      <td>1969</td>\n",
       "    </tr>\n",
       "    <tr>\n",
       "      <th>1811</th>\n",
       "      <td>DELTA</td>\n",
       "      <td>2005-11-29 00:00:00.000000</td>\n",
       "      <td>1800</td>\n",
       "      <td></td>\n",
       "      <td>TS</td>\n",
       "      <td>35.3</td>\n",
       "      <td>-1.0</td>\n",
       "      <td>60</td>\n",
       "      <td>2005</td>\n",
       "    </tr>\n",
       "    <tr>\n",
       "      <th>1812</th>\n",
       "      <td>EPSILON</td>\n",
       "      <td>2005-12-09 00:00:00.000000</td>\n",
       "      <td>1800</td>\n",
       "      <td></td>\n",
       "      <td>TS</td>\n",
       "      <td>34.5</td>\n",
       "      <td>-33.7</td>\n",
       "      <td>75</td>\n",
       "      <td>2005</td>\n",
       "    </tr>\n",
       "    <tr>\n",
       "      <th>1813</th>\n",
       "      <td>ZETA</td>\n",
       "      <td>2006-01-07 00:00:00.000000</td>\n",
       "      <td>1800</td>\n",
       "      <td></td>\n",
       "      <td>TS</td>\n",
       "      <td>26.3</td>\n",
       "      <td>-35.6</td>\n",
       "      <td>55</td>\n",
       "      <td>2006</td>\n",
       "    </tr>\n",
       "  </tbody>\n",
       "</table>\n",
       "<p>1814 rows × 9 columns</p>\n",
       "</div>"
      ],
      "text/plain": [
       "                     Name                        Date  Time Event Status  \\\n",
       "0                 UNNAMED  1851-06-28 00:00:00.000000  2100     L     TS   \n",
       "1                 UNNAMED  1852-08-30 00:00:00.000000  1800     L     TS   \n",
       "2                 UNNAMED  1853-08-05 00:00:00.000000  1200           TS   \n",
       "3                 UNNAMED  1854-06-27 00:00:00.000000  1800     L     TS   \n",
       "4                 UNNAMED  1855-08-06 00:00:00.000000  1200           HU   \n",
       "...                   ...                         ...   ...   ...    ...   \n",
       "1809                GAMMA  2005-11-22 00:00:00.000000  1800           WV   \n",
       "1810               MARTHA  1969-11-25 00:00:00.000000  1800           TS   \n",
       "1811                DELTA  2005-11-29 00:00:00.000000  1800           TS   \n",
       "1812              EPSILON  2005-12-09 00:00:00.000000  1800           TS   \n",
       "1813                 ZETA  2006-01-07 00:00:00.000000  1800           TS   \n",
       "\n",
       "     Latitude  Longitude  Maximum Wind  Year  \n",
       "0        31.0      -94.8            80  1851  \n",
       "1        41.0      -67.1           100  1852  \n",
       "2        32.5      -69.0            50  1853  \n",
       "3        28.0      -92.5            70  1854  \n",
       "4        22.2      -98.0            90  1855  \n",
       "...       ...        ...           ...   ...  \n",
       "1809     17.1      -62.1            45  2005  \n",
       "1810      9.8      -81.0            80  1969  \n",
       "1811     35.3       -1.0            60  2005  \n",
       "1812     34.5      -33.7            75  2005  \n",
       "1813     26.3      -35.6            55  2006  \n",
       "\n",
       "[1814 rows x 9 columns]"
      ]
     },
     "execution_count": 36,
     "metadata": {},
     "output_type": "execute_result"
    }
   ],
   "source": [
    "pd.read_sql('select * from maxWind', con)"
   ]
  },
  {
   "cell_type": "code",
   "execution_count": 37,
   "metadata": {},
   "outputs": [],
   "source": [
    "# Create a database session object\n",
    "session = Session(engine)"
   ]
  },
  {
   "cell_type": "code",
   "execution_count": 38,
   "metadata": {},
   "outputs": [
    {
     "data": {
      "text/plain": [
       "['hurrCount',\n",
       " 'hurricanes',\n",
       " 'landfall',\n",
       " 'maxWind',\n",
       " 'meancomplete_co2_df',\n",
       " 'ocean_temps']"
      ]
     },
     "execution_count": 38,
     "metadata": {},
     "output_type": "execute_result"
    }
   ],
   "source": [
    "inspector = inspect(engine)\n",
    "inspector.get_table_names()"
   ]
  },
  {
   "cell_type": "code",
   "execution_count": 39,
   "metadata": {},
   "outputs": [
    {
     "name": "stdout",
     "output_type": "stream",
     "text": [
      "Year TEXT\n",
      "Value TEXT\n"
     ]
    }
   ],
   "source": [
    "columns = inspector.get_columns('ocean_temps')\n",
    "for c in columns:\n",
    "    print(c[\"name\"], c[\"type\"])"
   ]
  },
  {
   "cell_type": "markdown",
   "metadata": {},
   "source": [
    "DO NOT USE AFTER THIS...OLD MONGODB CODE"
   ]
  },
  {
   "cell_type": "code",
   "execution_count": 40,
   "metadata": {},
   "outputs": [],
   "source": [
    "# #Define connection link an instantiate client\n",
    "# conn = 'mongodb://localhost:27017'\n",
    "# client = pymongo.MongoClient(conn)\n",
    "\n",
    "# #Define hurricane database in Mongo\n",
    "# #Define hurricane database in Mongo\n",
    "# db = client.projectDB\n",
    "\n",
    "# hurricanes = db.hurricanes\n",
    "\n",
    "# oceanTemps = db.ocean\n",
    "\n",
    "# carbon = db.carbon\n",
    "\n",
    "# perchange_co2 = db.perchange_co2\n",
    "\n",
    "# meancomplete_co2 = db.meancomplete_co2\n",
    "\n",
    "# stormpercent_change = db.stormpercent_change"
   ]
  },
  {
   "cell_type": "code",
   "execution_count": 41,
   "metadata": {},
   "outputs": [],
   "source": [
    "# #Instantiate for loop for populating hurricane collection\n",
    "# for index, row in cleanHurr.iterrows():\n",
    "#     #Populate post dictionary with information to be inserted into business collection\n",
    "#     post = {\n",
    "#         \"ID\": str(row[\"ID\"]),\n",
    "#         \"Name\": str(row[\"Name\"]).strip(),\n",
    "#         \"Date\": str(row[\"Date\"]),\n",
    "#         \"Time\": str(row[\"Time\"]),\n",
    "#         \"Event\": str(row[\"Event\"]).strip(),\n",
    "#         \"Status\": str(row[\"Status\"]).strip(),\n",
    "#         \"Latitude\": str(row[\"Latitude\"]),\n",
    "#         \"Longitude\": str(row[\"Longitude\"]),\n",
    "#         \"Maximum Wind\": str(row[\"Maximum Wind\"])\n",
    "#     }\n",
    "#     #Insert data into hurricanes collection, post{} by post{}\n",
    "#     hurricanes.insert_one(post)"
   ]
  },
  {
   "cell_type": "code",
   "execution_count": 42,
   "metadata": {},
   "outputs": [],
   "source": [
    "# #Instantiate for loop for populating ocean temps collection\n",
    "# for index, row in oceantemps_data_df.iterrows():\n",
    "#         post = {\n",
    "#             \"Year\": str(row[\"Year\"]),\n",
    "#             \"Value\": str(row[\"Value\"])\n",
    "#         }\n",
    "#         #Insert data into oceanTemps collection, post{} by post{}\n",
    "#         oceanTemps.insert_one(post)"
   ]
  },
  {
   "cell_type": "code",
   "execution_count": 43,
   "metadata": {},
   "outputs": [],
   "source": [
    "# #Instantiate for loop for populating carbon data collection\n",
    "# for index, row in complete_co2_data_df.iterrows():\n",
    "#         post = {\n",
    "#             \"Year\": str(row[\"year\"]),\n",
    "#             \"Month\": str(row[\"month\"]),\n",
    "#             \"Date\": str(row[\"decimal_date\"]),\n",
    "#             \"Monthly Avg\": str(row[\"monthly_average\"])\n",
    "#         }\n",
    "#         #Insert data into carbon collection, post{} by post{}\n",
    "#         carbon.insert_one(post)"
   ]
  },
  {
   "cell_type": "code",
   "execution_count": 44,
   "metadata": {},
   "outputs": [],
   "source": [
    "# #Instantiate for loop for populating % change co2 collection\n",
    "# for index, row in perchange_co2_df.iterrows():\n",
    "#         post = {\n",
    "#             \"Year\": str(row[\"year\"]),\n",
    "#             \"co2 Change\": str(row[\"co2change\"])\n",
    "#         }\n",
    "#         #Insert data into % change co2 collection, post{} by post{}\n",
    "#         perchange_co2.insert_one(post)"
   ]
  },
  {
   "cell_type": "code",
   "execution_count": 45,
   "metadata": {},
   "outputs": [],
   "source": [
    "# #Instantiate for loop for populating mean complete co2 collection\n",
    "# for index, row in meancomplete_co2_df.iterrows():\n",
    "#         post = {\n",
    "#             \"Year\": str(row[\"year\"]),\n",
    "#             \"Mean co2\": str(row[\"meanco2\"])\n",
    "#         }\n",
    "#         #Insert data into mean complete co2 collection, post{} by post{}\n",
    "#         meancomplete_co2.insert_one(post)"
   ]
  },
  {
   "cell_type": "code",
   "execution_count": 46,
   "metadata": {},
   "outputs": [],
   "source": [
    "# #Instantiate for loop for populating storm % change collection\n",
    "# for index, row in stormpercent_change_df.iterrows():\n",
    "#         post = {\n",
    "#             \"Year\": str(row[\"year\"]),\n",
    "#             \"Stormchange\": str(row[\"stormchange\"])\n",
    "#         }\n",
    "#         #Insert data into storm % change collection, post{} by post{}\n",
    "#         stormpercent_change.insert_one(post)"
   ]
  }
 ],
 "metadata": {
  "kernelspec": {
   "display_name": "Python 3",
   "language": "python",
   "name": "python3"
  },
  "language_info": {
   "codemirror_mode": {
    "name": "ipython",
    "version": 3
   },
   "file_extension": ".py",
   "mimetype": "text/x-python",
   "name": "python",
   "nbconvert_exporter": "python",
   "pygments_lexer": "ipython3",
   "version": "3.7.6"
  }
 },
 "nbformat": 4,
 "nbformat_minor": 4
}
