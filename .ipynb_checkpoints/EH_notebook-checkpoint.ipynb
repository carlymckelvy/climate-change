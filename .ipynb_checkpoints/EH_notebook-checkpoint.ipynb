{
 "cells": [
  {
   "cell_type": "code",
   "execution_count": 40,
   "metadata": {},
   "outputs": [],
   "source": [
    "# import dependencies\n",
    "import os\n",
    "import pandas as pd\n",
    "import numpy as np\n",
    "# import pymongo\n",
    "# from pymongo import MongoClient\n",
    "import sqlalchemy\n",
    "#from sqlalchemy.ext.automap import automap_base\n",
    "from sqlalchemy.orm import Session\n",
    "from sqlalchemy import create_engine, func, inspect\n",
    "import warnings\n",
    "warnings.filterwarnings('ignore')\n"
   ]
  },
  {
   "cell_type": "code",
   "execution_count": 41,
   "metadata": {
    "scrolled": true
   },
   "outputs": [],
   "source": [
    "# read in hurricane data\n",
    "hurricane_data_df = pd.read_csv(\"static/data/atlantic.csv\", encoding='utf-8')\n",
    "# hurricane_data_df.head()"
   ]
  },
  {
   "cell_type": "markdown",
   "metadata": {},
   "source": [
    "Ocean Temps data info:\n",
    "Units: Degrees Celsius\n",
    "Base Period: 1901-2000"
   ]
  },
  {
   "cell_type": "code",
   "execution_count": 42,
   "metadata": {
    "scrolled": true
   },
   "outputs": [
    {
     "data": {
      "text/html": [
       "<div>\n",
       "<style scoped>\n",
       "    .dataframe tbody tr th:only-of-type {\n",
       "        vertical-align: middle;\n",
       "    }\n",
       "\n",
       "    .dataframe tbody tr th {\n",
       "        vertical-align: top;\n",
       "    }\n",
       "\n",
       "    .dataframe thead th {\n",
       "        text-align: right;\n",
       "    }\n",
       "</style>\n",
       "<table border=\"1\" class=\"dataframe\">\n",
       "  <thead>\n",
       "    <tr style=\"text-align: right;\">\n",
       "      <th></th>\n",
       "      <th>Year</th>\n",
       "      <th>Value</th>\n",
       "    </tr>\n",
       "  </thead>\n",
       "  <tbody>\n",
       "    <tr>\n",
       "      <th>0</th>\n",
       "      <td>1880</td>\n",
       "      <td>-0.11</td>\n",
       "    </tr>\n",
       "    <tr>\n",
       "      <th>1</th>\n",
       "      <td>1881</td>\n",
       "      <td>-0.16</td>\n",
       "    </tr>\n",
       "    <tr>\n",
       "      <th>2</th>\n",
       "      <td>1882</td>\n",
       "      <td>-0.1</td>\n",
       "    </tr>\n",
       "    <tr>\n",
       "      <th>3</th>\n",
       "      <td>1883</td>\n",
       "      <td>-0.18</td>\n",
       "    </tr>\n",
       "    <tr>\n",
       "      <th>4</th>\n",
       "      <td>1884</td>\n",
       "      <td>-0.29</td>\n",
       "    </tr>\n",
       "  </tbody>\n",
       "</table>\n",
       "</div>"
      ],
      "text/plain": [
       "   Year  Value\n",
       "0  1880  -0.11\n",
       "1  1881  -0.16\n",
       "2  1882   -0.1\n",
       "3  1883  -0.18\n",
       "4  1884  -0.29"
      ]
     },
     "execution_count": 42,
     "metadata": {},
     "output_type": "execute_result"
    }
   ],
   "source": [
    "# read in ocean temps data (nothing to do here)\n",
    "oceantemps_data_df = pd.read_csv(\"static/data/oceantemps.csv\", encoding='utf-8')\n",
    "oceantemps_data_df[\"Year\"] = oceantemps_data_df[\"Year\"].astype(str)\n",
    "oceantemps_data_df[\"Value\"] = oceantemps_data_df[\"Value\"].astype(str)\n",
    "oceantemps_data_df.head()"
   ]
  },
  {
   "cell_type": "code",
   "execution_count": 43,
   "metadata": {},
   "outputs": [],
   "source": [
    "# read in annual CO2 data (Justan's - has more data points for his graph)\n",
    "complete_co2_data_df = pd.read_csv(\"static/assets/data/c02.csv\", encoding='utf-8')\n",
    "complete_co2_data_df[\"year\"] = complete_co2_data_df[\"year\"].astype(str)\n",
    "# complete_co2_data_df.head()"
   ]
  },
  {
   "cell_type": "code",
   "execution_count": 44,
   "metadata": {},
   "outputs": [],
   "source": [
    "# reduce data frame to just have year and mean co2 for each year\n",
    "complete_co2 = complete_co2_data_df[['year', 'monthly_average']]\n",
    "meancomplete_co2 = complete_co2.groupby('year').mean()\n",
    "# meancomplete_co2.head()"
   ]
  },
  {
   "cell_type": "code",
   "execution_count": 45,
   "metadata": {},
   "outputs": [],
   "source": [
    "# #  rename dataframe to use for calculating percentage change year/year of co2\n",
    "# perchange_co2 = meancomplete_co2"
   ]
  },
  {
   "cell_type": "code",
   "execution_count": 46,
   "metadata": {},
   "outputs": [],
   "source": [
    "# round to 2 decimal places and reset index\n",
    "meancomplete_co2 = meancomplete_co2.round(2)\n",
    "meancomplete_co2_df = meancomplete_co2.reset_index()\n",
    "# meancomplete_co2_df.head()"
   ]
  },
  {
   "cell_type": "code",
   "execution_count": 47,
   "metadata": {},
   "outputs": [
    {
     "data": {
      "text/html": [
       "<div>\n",
       "<style scoped>\n",
       "    .dataframe tbody tr th:only-of-type {\n",
       "        vertical-align: middle;\n",
       "    }\n",
       "\n",
       "    .dataframe tbody tr th {\n",
       "        vertical-align: top;\n",
       "    }\n",
       "\n",
       "    .dataframe thead th {\n",
       "        text-align: right;\n",
       "    }\n",
       "</style>\n",
       "<table border=\"1\" class=\"dataframe\">\n",
       "  <thead>\n",
       "    <tr style=\"text-align: right;\">\n",
       "      <th></th>\n",
       "      <th>year</th>\n",
       "      <th>meanco2</th>\n",
       "    </tr>\n",
       "  </thead>\n",
       "  <tbody>\n",
       "    <tr>\n",
       "      <th>0</th>\n",
       "      <td>1958</td>\n",
       "      <td>315.23</td>\n",
       "    </tr>\n",
       "    <tr>\n",
       "      <th>1</th>\n",
       "      <td>1959</td>\n",
       "      <td>315.98</td>\n",
       "    </tr>\n",
       "    <tr>\n",
       "      <th>2</th>\n",
       "      <td>1960</td>\n",
       "      <td>316.91</td>\n",
       "    </tr>\n",
       "    <tr>\n",
       "      <th>3</th>\n",
       "      <td>1961</td>\n",
       "      <td>317.64</td>\n",
       "    </tr>\n",
       "    <tr>\n",
       "      <th>4</th>\n",
       "      <td>1962</td>\n",
       "      <td>318.45</td>\n",
       "    </tr>\n",
       "  </tbody>\n",
       "</table>\n",
       "</div>"
      ],
      "text/plain": [
       "   year meanco2\n",
       "0  1958  315.23\n",
       "1  1959  315.98\n",
       "2  1960  316.91\n",
       "3  1961  317.64\n",
       "4  1962  318.45"
      ]
     },
     "execution_count": 47,
     "metadata": {},
     "output_type": "execute_result"
    }
   ],
   "source": [
    "# rename the columns and this is final dataframe for year/mean co2 levels\n",
    "meancomplete_co2_df.rename(columns={'year': 'year', 'monthly_average': 'meanco2'}, inplace=True)\n",
    "meancomplete_co2_df[\"year\"] = meancomplete_co2_df[\"year\"].astype(str)\n",
    "meancomplete_co2_df[\"meanco2\"] = meancomplete_co2_df[\"meanco2\"].astype(str)\n",
    "meancomplete_co2_df.head()"
   ]
  },
  {
   "cell_type": "code",
   "execution_count": 48,
   "metadata": {},
   "outputs": [],
   "source": [
    "# use perchange_co2 = meancomplete_co2 to calculate year/year percentage change of co2 data\n",
    "# perchange_co2.head()"
   ]
  },
  {
   "cell_type": "code",
   "execution_count": 49,
   "metadata": {},
   "outputs": [],
   "source": [
    "# # calculate percentage change year/year of co2 data/round/ and reset index\n",
    "# perchange_co2_df = perchange_co2.pct_change()\n",
    "# perchange_co2_df = perchange_co2_df.round(3)\n",
    "# perchange_co2_df = perchange_co2_df.reset_index()\n",
    "# perchange_co2_df.tail()"
   ]
  },
  {
   "cell_type": "code",
   "execution_count": 50,
   "metadata": {},
   "outputs": [],
   "source": [
    "# # rename the columns and this is final dataframe for year/year percentage change co2 levels\n",
    "# perchange_co2_df.rename(columns={'year': 'year', 'monthly_average': 'co2change'}, inplace=True)\n",
    "# perchange_co2_df[\"year\"] = perchange_co2_df[\"year\"].astype(str)\n",
    "# perchange_co2_df.head()"
   ]
  },
  {
   "cell_type": "code",
   "execution_count": 51,
   "metadata": {},
   "outputs": [],
   "source": [
    "# print(perchange_co2_df.dtypes)"
   ]
  },
  {
   "cell_type": "code",
   "execution_count": 52,
   "metadata": {},
   "outputs": [],
   "source": [
    "# perchange_co2_df.to_csv(\"static/data/perchange_co2.csv\", encoding='utf-8')"
   ]
  },
  {
   "cell_type": "code",
   "execution_count": 53,
   "metadata": {},
   "outputs": [],
   "source": [
    "# read in annual co2 data (don't use this csv!!!)\n",
    "# mean_co2_data_df = pd.read_csv(\"static/data/co2_annmean_mlo.csv\", encoding='utf-8')\n",
    "# mean_co2_data_df.head(5)\n"
   ]
  },
  {
   "cell_type": "code",
   "execution_count": 54,
   "metadata": {},
   "outputs": [],
   "source": [
    "# rename columns - wont' let you use column names - \"not in index\"\n",
    "#yearmean_co2 = mean_co2_data_df[['year', 'micromol_mol_mean']]\n",
    "#yearmean_co2.head()"
   ]
  },
  {
   "cell_type": "code",
   "execution_count": 55,
   "metadata": {},
   "outputs": [],
   "source": [
    "# reduce columns for hurricane data to what we need \n",
    "cropHurr = hurricane_data_df[[\"ID\", \"Name\", \"Date\", \"Time\", \"Event\", \"Status\", \"Latitude\", \"Longitude\", \"Maximum Wind\"]]\n",
    "# cropHurr.head()"
   ]
  },
  {
   "cell_type": "code",
   "execution_count": 56,
   "metadata": {},
   "outputs": [],
   "source": [
    "# to calculate percentage change for storms year/year\n",
    "# groupby ID to explore unique ID/status data - some storms never become hurricanes\n",
    "cropHurrgroup = cropHurr.groupby(['ID', 'Status']).mean()\n",
    "# cropHurrgroup.tail(10)"
   ]
  },
  {
   "cell_type": "code",
   "execution_count": 57,
   "metadata": {},
   "outputs": [],
   "source": [
    "# find the last id's used in the data to isolate unique storms\n",
    "cropHurrlast = cropHurr.groupby('ID').last()\n",
    "# cropHurrlast.tail()"
   ]
  },
  {
   "cell_type": "code",
   "execution_count": 58,
   "metadata": {},
   "outputs": [],
   "source": [
    "# drop last 4 characters for 'Date' to isolate year (not include month/day)\n",
    "# reset index\n",
    "cropHurrlast[\"Date\"] = cropHurrlast[\"Date\"].astype(str).str[:-4]\n",
    "cropHurrlast = cropHurrlast.reset_index()\n",
    "# cropHurrlast.tail()"
   ]
  },
  {
   "cell_type": "code",
   "execution_count": 59,
   "metadata": {},
   "outputs": [],
   "source": [
    "# group by 'Date' to get counts of storms for each year\n",
    "# reset index\n",
    "cropHurrlastgroup = cropHurrlast.groupby('Date').count()\n",
    "# cropHurrlastgroup.tail()"
   ]
  },
  {
   "cell_type": "code",
   "execution_count": 60,
   "metadata": {},
   "outputs": [
    {
     "data": {
      "text/html": [
       "<div>\n",
       "<style scoped>\n",
       "    .dataframe tbody tr th:only-of-type {\n",
       "        vertical-align: middle;\n",
       "    }\n",
       "\n",
       "    .dataframe tbody tr th {\n",
       "        vertical-align: top;\n",
       "    }\n",
       "\n",
       "    .dataframe thead th {\n",
       "        text-align: right;\n",
       "    }\n",
       "</style>\n",
       "<table border=\"1\" class=\"dataframe\">\n",
       "  <thead>\n",
       "    <tr style=\"text-align: right;\">\n",
       "      <th></th>\n",
       "      <th>Date</th>\n",
       "      <th>ID</th>\n",
       "    </tr>\n",
       "  </thead>\n",
       "  <tbody>\n",
       "    <tr>\n",
       "      <th>160</th>\n",
       "      <td>2011</td>\n",
       "      <td>20</td>\n",
       "    </tr>\n",
       "    <tr>\n",
       "      <th>161</th>\n",
       "      <td>2012</td>\n",
       "      <td>19</td>\n",
       "    </tr>\n",
       "    <tr>\n",
       "      <th>162</th>\n",
       "      <td>2013</td>\n",
       "      <td>15</td>\n",
       "    </tr>\n",
       "    <tr>\n",
       "      <th>163</th>\n",
       "      <td>2014</td>\n",
       "      <td>9</td>\n",
       "    </tr>\n",
       "    <tr>\n",
       "      <th>164</th>\n",
       "      <td>2015</td>\n",
       "      <td>12</td>\n",
       "    </tr>\n",
       "  </tbody>\n",
       "</table>\n",
       "</div>"
      ],
      "text/plain": [
       "     Date  ID\n",
       "160  2011  20\n",
       "161  2012  19\n",
       "162  2013  15\n",
       "163  2014   9\n",
       "164  2015  12"
      ]
     },
     "execution_count": 60,
     "metadata": {},
     "output_type": "execute_result"
    }
   ],
   "source": [
    "# reduce columns for just year and ID (storm counts/year)(don't reset index yet - do % change first)\n",
    "hurrCount = cropHurrlastgroup[['ID']]\n",
    "hurrCount = hurrCount.reset_index()\n",
    "hurrCount.tail()"
   ]
  },
  {
   "cell_type": "code",
   "execution_count": 61,
   "metadata": {},
   "outputs": [],
   "source": [
    "# # perform percentage change function to calculate changes from year to year (round to 3 decimal places)\n",
    "# # reset index\n",
    "# stormpercent_change_df = cropHurrlastgroup_df.pct_change()\n",
    "# stormpercent_change_df = stormpercent_change_df.round(3)\n",
    "# stormpercent_change_df = stormpercent_change_df.reset_index()\n",
    "# stormpercent_change_df.tail()"
   ]
  },
  {
   "cell_type": "code",
   "execution_count": 62,
   "metadata": {},
   "outputs": [],
   "source": [
    "# # rename columns for % change of storms for each year\n",
    "# stormpercent_change_df.rename(columns={'Date': 'year', 'ID': 'stormchange'}, inplace=True)\n",
    "# stormpercent_change_df.head()"
   ]
  },
  {
   "cell_type": "code",
   "execution_count": 63,
   "metadata": {},
   "outputs": [],
   "source": [
    "# print(stormpercent_change_df.dtypes)"
   ]
  },
  {
   "cell_type": "code",
   "execution_count": 64,
   "metadata": {},
   "outputs": [],
   "source": [
    "# stormpercent_change_df.to_csv(\"static/data/stormpercent_change.csv\", encoding='utf-8')"
   ]
  },
  {
   "cell_type": "code",
   "execution_count": 65,
   "metadata": {},
   "outputs": [],
   "source": [
    "# # check datatypes for hurricane data\n",
    "# print(cropHurr.dtypes)"
   ]
  },
  {
   "cell_type": "code",
   "execution_count": 66,
   "metadata": {},
   "outputs": [],
   "source": [
    "# remove last characters from latitude 'N' and longitude 'W' columns\n",
    "cropHurr[\"Latitude\"] = cropHurr[\"Latitude\"].astype(str).str[:-1]\n",
    "cropHurr[\"Longitude\"] = cropHurr[\"Longitude\"].astype(str).str[:-1]\n",
    "# cropHurr.head()"
   ]
  },
  {
   "cell_type": "code",
   "execution_count": 67,
   "metadata": {},
   "outputs": [],
   "source": [
    "# make W - longitude values negative \n",
    "cropHurr.Longitude = cropHurr.Longitude.astype(float)*(-1)"
   ]
  },
  {
   "cell_type": "code",
   "execution_count": 68,
   "metadata": {},
   "outputs": [
    {
     "data": {
      "text/html": [
       "<div>\n",
       "<style scoped>\n",
       "    .dataframe tbody tr th:only-of-type {\n",
       "        vertical-align: middle;\n",
       "    }\n",
       "\n",
       "    .dataframe tbody tr th {\n",
       "        vertical-align: top;\n",
       "    }\n",
       "\n",
       "    .dataframe thead th {\n",
       "        text-align: right;\n",
       "    }\n",
       "</style>\n",
       "<table border=\"1\" class=\"dataframe\">\n",
       "  <thead>\n",
       "    <tr style=\"text-align: right;\">\n",
       "      <th></th>\n",
       "      <th>ID</th>\n",
       "      <th>Name</th>\n",
       "      <th>Date</th>\n",
       "      <th>Time</th>\n",
       "      <th>Event</th>\n",
       "      <th>Status</th>\n",
       "      <th>Latitude</th>\n",
       "      <th>Longitude</th>\n",
       "      <th>Maximum Wind</th>\n",
       "      <th>Year</th>\n",
       "    </tr>\n",
       "  </thead>\n",
       "  <tbody>\n",
       "    <tr>\n",
       "      <th>0</th>\n",
       "      <td>AL011851</td>\n",
       "      <td>UNNAMED</td>\n",
       "      <td>1851-06-25</td>\n",
       "      <td>0</td>\n",
       "      <td></td>\n",
       "      <td>HU</td>\n",
       "      <td>28.0</td>\n",
       "      <td>-94.8</td>\n",
       "      <td>80</td>\n",
       "      <td>1851</td>\n",
       "    </tr>\n",
       "    <tr>\n",
       "      <th>1</th>\n",
       "      <td>AL011851</td>\n",
       "      <td>UNNAMED</td>\n",
       "      <td>1851-06-25</td>\n",
       "      <td>600</td>\n",
       "      <td></td>\n",
       "      <td>HU</td>\n",
       "      <td>28.0</td>\n",
       "      <td>-95.4</td>\n",
       "      <td>80</td>\n",
       "      <td>1851</td>\n",
       "    </tr>\n",
       "    <tr>\n",
       "      <th>2</th>\n",
       "      <td>AL011851</td>\n",
       "      <td>UNNAMED</td>\n",
       "      <td>1851-06-25</td>\n",
       "      <td>1200</td>\n",
       "      <td></td>\n",
       "      <td>HU</td>\n",
       "      <td>28.0</td>\n",
       "      <td>-96.0</td>\n",
       "      <td>80</td>\n",
       "      <td>1851</td>\n",
       "    </tr>\n",
       "    <tr>\n",
       "      <th>3</th>\n",
       "      <td>AL011851</td>\n",
       "      <td>UNNAMED</td>\n",
       "      <td>1851-06-25</td>\n",
       "      <td>1800</td>\n",
       "      <td></td>\n",
       "      <td>HU</td>\n",
       "      <td>28.1</td>\n",
       "      <td>-96.5</td>\n",
       "      <td>80</td>\n",
       "      <td>1851</td>\n",
       "    </tr>\n",
       "    <tr>\n",
       "      <th>4</th>\n",
       "      <td>AL011851</td>\n",
       "      <td>UNNAMED</td>\n",
       "      <td>1851-06-25</td>\n",
       "      <td>2100</td>\n",
       "      <td>L</td>\n",
       "      <td>HU</td>\n",
       "      <td>28.2</td>\n",
       "      <td>-96.8</td>\n",
       "      <td>80</td>\n",
       "      <td>1851</td>\n",
       "    </tr>\n",
       "  </tbody>\n",
       "</table>\n",
       "</div>"
      ],
      "text/plain": [
       "         ID                 Name       Date  Time Event Status Latitude  \\\n",
       "0  AL011851              UNNAMED 1851-06-25     0           HU     28.0   \n",
       "1  AL011851              UNNAMED 1851-06-25   600           HU     28.0   \n",
       "2  AL011851              UNNAMED 1851-06-25  1200           HU     28.0   \n",
       "3  AL011851              UNNAMED 1851-06-25  1800           HU     28.1   \n",
       "4  AL011851              UNNAMED 1851-06-25  2100     L     HU     28.2   \n",
       "\n",
       "   Longitude  Maximum Wind  Year  \n",
       "0      -94.8            80  1851  \n",
       "1      -95.4            80  1851  \n",
       "2      -96.0            80  1851  \n",
       "3      -96.5            80  1851  \n",
       "4      -96.8            80  1851  "
      ]
     },
     "execution_count": 68,
     "metadata": {},
     "output_type": "execute_result"
    }
   ],
   "source": [
    "#MAIN HURRICANE DATASET TO USE\n",
    "#TO DO:  reformat date and add year column\n",
    "cleanHurr = cropHurr\n",
    "# cleanHurr = cleanHurr[\"Date\"].dt.strftime(\"%m/%d/%y\")\n",
    "cleanHurr['Date'] = pd.to_datetime(cleanHurr['Date'].astype('str'), format = '%Y/%m/%d')\n",
    "cleanHurr[\"Year\"] = cleanHurr[\"Date\"].astype(str).str[:-6]\n",
    "cleanHurr.to_csv(\"static/data/cleanHurr.csv\", encoding='utf-8')\n",
    "cleanHurr.head()"
   ]
  },
  {
   "cell_type": "code",
   "execution_count": 69,
   "metadata": {},
   "outputs": [
    {
     "data": {
      "text/html": [
       "<div>\n",
       "<style scoped>\n",
       "    .dataframe tbody tr th:only-of-type {\n",
       "        vertical-align: middle;\n",
       "    }\n",
       "\n",
       "    .dataframe tbody tr th {\n",
       "        vertical-align: top;\n",
       "    }\n",
       "\n",
       "    .dataframe thead th {\n",
       "        text-align: right;\n",
       "    }\n",
       "</style>\n",
       "<table border=\"1\" class=\"dataframe\">\n",
       "  <thead>\n",
       "    <tr style=\"text-align: right;\">\n",
       "      <th></th>\n",
       "      <th>Name</th>\n",
       "      <th>Date</th>\n",
       "      <th>Time</th>\n",
       "      <th>Event</th>\n",
       "      <th>Status</th>\n",
       "      <th>Latitude</th>\n",
       "      <th>Longitude</th>\n",
       "      <th>Maximum Wind</th>\n",
       "      <th>Year</th>\n",
       "    </tr>\n",
       "    <tr>\n",
       "      <th>ID</th>\n",
       "      <th></th>\n",
       "      <th></th>\n",
       "      <th></th>\n",
       "      <th></th>\n",
       "      <th></th>\n",
       "      <th></th>\n",
       "      <th></th>\n",
       "      <th></th>\n",
       "      <th></th>\n",
       "    </tr>\n",
       "  </thead>\n",
       "  <tbody>\n",
       "    <tr>\n",
       "      <th>AL282005</th>\n",
       "      <td>GAMMA</td>\n",
       "      <td>2005-11-22</td>\n",
       "      <td>1800</td>\n",
       "      <td></td>\n",
       "      <td>WV</td>\n",
       "      <td>17.1</td>\n",
       "      <td>-62.1</td>\n",
       "      <td>45</td>\n",
       "      <td>2005</td>\n",
       "    </tr>\n",
       "    <tr>\n",
       "      <th>AL291969</th>\n",
       "      <td>MARTHA</td>\n",
       "      <td>1969-11-25</td>\n",
       "      <td>1800</td>\n",
       "      <td></td>\n",
       "      <td>TS</td>\n",
       "      <td>9.8</td>\n",
       "      <td>-81.0</td>\n",
       "      <td>80</td>\n",
       "      <td>1969</td>\n",
       "    </tr>\n",
       "    <tr>\n",
       "      <th>AL292005</th>\n",
       "      <td>DELTA</td>\n",
       "      <td>2005-11-29</td>\n",
       "      <td>1800</td>\n",
       "      <td></td>\n",
       "      <td>TS</td>\n",
       "      <td>35.3</td>\n",
       "      <td>-1.0</td>\n",
       "      <td>60</td>\n",
       "      <td>2005</td>\n",
       "    </tr>\n",
       "    <tr>\n",
       "      <th>AL302005</th>\n",
       "      <td>EPSILON</td>\n",
       "      <td>2005-12-09</td>\n",
       "      <td>1800</td>\n",
       "      <td></td>\n",
       "      <td>TS</td>\n",
       "      <td>34.5</td>\n",
       "      <td>-33.7</td>\n",
       "      <td>75</td>\n",
       "      <td>2005</td>\n",
       "    </tr>\n",
       "    <tr>\n",
       "      <th>AL312005</th>\n",
       "      <td>ZETA</td>\n",
       "      <td>2006-01-07</td>\n",
       "      <td>1800</td>\n",
       "      <td></td>\n",
       "      <td>TS</td>\n",
       "      <td>26.3</td>\n",
       "      <td>-35.6</td>\n",
       "      <td>55</td>\n",
       "      <td>2006</td>\n",
       "    </tr>\n",
       "  </tbody>\n",
       "</table>\n",
       "</div>"
      ],
      "text/plain": [
       "                         Name       Date  Time Event Status Latitude  \\\n",
       "ID                                                                     \n",
       "AL282005                GAMMA 2005-11-22  1800           WV     17.1   \n",
       "AL291969               MARTHA 1969-11-25  1800           TS      9.8   \n",
       "AL292005                DELTA 2005-11-29  1800           TS     35.3   \n",
       "AL302005              EPSILON 2005-12-09  1800           TS     34.5   \n",
       "AL312005                 ZETA 2006-01-07  1800           TS     26.3   \n",
       "\n",
       "          Longitude  Maximum Wind  Year  \n",
       "ID                                       \n",
       "AL282005      -62.1            45  2005  \n",
       "AL291969      -81.0            80  1969  \n",
       "AL292005       -1.0            60  2005  \n",
       "AL302005      -33.7            75  2005  \n",
       "AL312005      -35.6            55  2006  "
      ]
     },
     "execution_count": 69,
     "metadata": {},
     "output_type": "execute_result"
    }
   ],
   "source": [
    "#TO DO: find max wind speed per unique storm ID\n",
    "maxWind = cleanHurr.groupby(\"ID\").max()\n",
    "maxWind.to_csv(\"static/data/maxWind.csv\", encoding='utf-8')\n",
    "maxWind.tail()"
   ]
  },
  {
   "cell_type": "code",
   "execution_count": 70,
   "metadata": {},
   "outputs": [
    {
     "data": {
      "text/html": [
       "<div>\n",
       "<style scoped>\n",
       "    .dataframe tbody tr th:only-of-type {\n",
       "        vertical-align: middle;\n",
       "    }\n",
       "\n",
       "    .dataframe tbody tr th {\n",
       "        vertical-align: top;\n",
       "    }\n",
       "\n",
       "    .dataframe thead th {\n",
       "        text-align: right;\n",
       "    }\n",
       "</style>\n",
       "<table border=\"1\" class=\"dataframe\">\n",
       "  <thead>\n",
       "    <tr style=\"text-align: right;\">\n",
       "      <th></th>\n",
       "      <th>ID</th>\n",
       "      <th>Name</th>\n",
       "      <th>Date</th>\n",
       "      <th>Time</th>\n",
       "      <th>Event</th>\n",
       "      <th>Status</th>\n",
       "      <th>Latitude</th>\n",
       "      <th>Longitude</th>\n",
       "      <th>Maximum Wind</th>\n",
       "      <th>Year</th>\n",
       "    </tr>\n",
       "  </thead>\n",
       "  <tbody>\n",
       "    <tr>\n",
       "      <th>4</th>\n",
       "      <td>AL011851</td>\n",
       "      <td>UNNAMED</td>\n",
       "      <td>1851-06-25</td>\n",
       "      <td>2100</td>\n",
       "      <td>L</td>\n",
       "      <td>HU</td>\n",
       "      <td>28.2</td>\n",
       "      <td>-96.8</td>\n",
       "      <td>80</td>\n",
       "      <td>1851</td>\n",
       "    </tr>\n",
       "    <tr>\n",
       "      <th>48</th>\n",
       "      <td>AL041851</td>\n",
       "      <td>UNNAMED</td>\n",
       "      <td>1851-08-23</td>\n",
       "      <td>2100</td>\n",
       "      <td>L</td>\n",
       "      <td>HU</td>\n",
       "      <td>30.1</td>\n",
       "      <td>-85.7</td>\n",
       "      <td>100</td>\n",
       "      <td>1851</td>\n",
       "    </tr>\n",
       "    <tr>\n",
       "      <th>96</th>\n",
       "      <td>AL061851</td>\n",
       "      <td>UNNAMED</td>\n",
       "      <td>1851-10-19</td>\n",
       "      <td>1500</td>\n",
       "      <td>L</td>\n",
       "      <td>TS</td>\n",
       "      <td>41.1</td>\n",
       "      <td>-71.7</td>\n",
       "      <td>50</td>\n",
       "      <td>1851</td>\n",
       "    </tr>\n",
       "    <tr>\n",
       "      <th>127</th>\n",
       "      <td>AL011852</td>\n",
       "      <td>UNNAMED</td>\n",
       "      <td>1852-08-26</td>\n",
       "      <td>600</td>\n",
       "      <td>L</td>\n",
       "      <td>HU</td>\n",
       "      <td>30.2</td>\n",
       "      <td>-88.6</td>\n",
       "      <td>100</td>\n",
       "      <td>1852</td>\n",
       "    </tr>\n",
       "    <tr>\n",
       "      <th>163</th>\n",
       "      <td>AL031852</td>\n",
       "      <td>UNNAMED</td>\n",
       "      <td>1852-09-12</td>\n",
       "      <td>0</td>\n",
       "      <td>L</td>\n",
       "      <td>HU</td>\n",
       "      <td>28.0</td>\n",
       "      <td>-82.8</td>\n",
       "      <td>70</td>\n",
       "      <td>1852</td>\n",
       "    </tr>\n",
       "  </tbody>\n",
       "</table>\n",
       "</div>"
      ],
      "text/plain": [
       "           ID                 Name       Date  Time Event Status Latitude  \\\n",
       "4    AL011851              UNNAMED 1851-06-25  2100     L     HU     28.2   \n",
       "48   AL041851              UNNAMED 1851-08-23  2100     L     HU     30.1   \n",
       "96   AL061851              UNNAMED 1851-10-19  1500     L     TS     41.1   \n",
       "127  AL011852              UNNAMED 1852-08-26   600     L     HU     30.2   \n",
       "163  AL031852              UNNAMED 1852-09-12     0     L     HU     28.0   \n",
       "\n",
       "     Longitude  Maximum Wind  Year  \n",
       "4        -96.8            80  1851  \n",
       "48       -85.7           100  1851  \n",
       "96       -71.7            50  1851  \n",
       "127      -88.6           100  1852  \n",
       "163      -82.8            70  1852  "
      ]
     },
     "execution_count": 70,
     "metadata": {},
     "output_type": "execute_result"
    }
   ],
   "source": [
    "#TO DO: Landfall dataset\n",
    "landfall = cleanHurr.loc[cleanHurr[\"Event\"] == \" L\"]\n",
    "landfall.to_csv(\"static/data/landfall.csv\", encoding='utf-8')\n",
    "landfall.head()"
   ]
  },
  {
   "cell_type": "markdown",
   "metadata": {},
   "source": [
    "Create database"
   ]
  },
  {
   "cell_type": "code",
   "execution_count": 71,
   "metadata": {},
   "outputs": [],
   "source": [
    "from sqlalchemy.ext.declarative import declarative_base\n",
    "\n",
    "\n",
    "Base = declarative_base()\n",
    "\n",
    "from sqlalchemy import Column, Integer, String, Float\n"
   ]
  },
  {
   "cell_type": "code",
   "execution_count": 72,
   "metadata": {},
   "outputs": [],
   "source": [
    "# Define a class\n",
    "class OceanTemps(Base):\n",
    "    __tablename__ = 'oceantemps'\n",
    "    index = Column(Integer, primary_key=True)\n",
    "    year = Column(Integer)\n",
    "    value = Column(String(255))\n"
   ]
  },
  {
   "cell_type": "code",
   "execution_count": 73,
   "metadata": {},
   "outputs": [],
   "source": [
    "# class OceanTemp(Base):\n",
    "#     __tablename__ = 'ocean_temps'\n",
    "#      index = Column(Integer, primary_key=True)\n",
    "#      year = Column(String(255))\n",
    " #     value = Column(String(255))"
   ]
  },
  {
   "cell_type": "code",
   "execution_count": 74,
   "metadata": {},
   "outputs": [
    {
     "name": "stdout",
     "output_type": "stream",
     "text": [
      "2020-10-31 21:11:55,617 INFO sqlalchemy.engine.base.Engine SELECT CAST('test plain returns' AS VARCHAR(60)) AS anon_1\n",
      "2020-10-31 21:11:55,619 INFO sqlalchemy.engine.base.Engine ()\n",
      "2020-10-31 21:11:55,622 INFO sqlalchemy.engine.base.Engine SELECT CAST('test unicode returns' AS VARCHAR(60)) AS anon_1\n",
      "2020-10-31 21:11:55,622 INFO sqlalchemy.engine.base.Engine ()\n"
     ]
    }
   ],
   "source": [
    "# Create an engine for the sqlite database\n",
    "engine = create_engine(\"sqlite:///climateDB.sqlite\", echo=\"debug\")\n",
    "con = engine.connect()"
   ]
  },
  {
   "cell_type": "code",
   "execution_count": 75,
   "metadata": {},
   "outputs": [
    {
     "name": "stdout",
     "output_type": "stream",
     "text": [
      "2020-10-31 21:11:59,530 INFO sqlalchemy.engine.base.Engine PRAGMA main.table_info(\"ocean_temps\")\n",
      "2020-10-31 21:11:59,531 INFO sqlalchemy.engine.base.Engine ()\n",
      "2020-10-31 21:11:59,533 DEBUG sqlalchemy.engine.base.Engine Col ('cid', 'name', 'type', 'notnull', 'dflt_value', 'pk')\n",
      "2020-10-31 21:11:59,535 DEBUG sqlalchemy.engine.base.Engine Row (0, 'index', 'BIGINT', 0, None, 0)\n",
      "2020-10-31 21:11:59,537 DEBUG sqlalchemy.engine.base.Engine Row (1, 'Year', 'TEXT', 0, None, 0)\n",
      "2020-10-31 21:11:59,538 DEBUG sqlalchemy.engine.base.Engine Row (2, 'Value', 'TEXT', 0, None, 0)\n"
     ]
    }
   ],
   "source": [
    "Base.metadata.create_all(con)"
   ]
  },
  {
   "cell_type": "code",
   "execution_count": 76,
   "metadata": {},
   "outputs": [],
   "source": [
    "#session = Session(bind=engine)"
   ]
  },
  {
   "cell_type": "code",
   "execution_count": null,
   "metadata": {},
   "outputs": [],
   "source": [
    "from pandas.io.sql import SQLTable, pandasSQL_builder\n",
    "\n",
    "df = oceantemps_data_df\n",
    "#engine = <sqlalchemy engine>\n",
    "\n",
    "table = SQLTable(\n",
    "    \"ocean_temps\",\n",
    "    pandasSQL_builder(engine, schema=None),\n",
    "    frame=df.reset_index(),\n",
    "    index=False,\n",
    "    keys=df.index.names,\n",
    "    if_exists='replace',\n",
    "    schema=None,\n",
    ")\n",
    "\n",
    "table.create() # Will honor your if_exists settings\n",
    "table.insert() # This hits limits in allowed sqlite params if chunks are too large"
   ]
  },
  {
   "cell_type": "code",
   "execution_count": 77,
   "metadata": {
    "scrolled": false
   },
   "outputs": [
    {
     "name": "stdout",
     "output_type": "stream",
     "text": [
      "2020-10-31 21:12:17,620 INFO sqlalchemy.engine.base.Engine PRAGMA main.table_info(\"ocean_temps\")\n",
      "2020-10-31 21:12:17,621 INFO sqlalchemy.engine.base.Engine ()\n",
      "2020-10-31 21:12:17,623 DEBUG sqlalchemy.engine.base.Engine Col ('cid', 'name', 'type', 'notnull', 'dflt_value', 'pk')\n",
      "2020-10-31 21:12:17,624 DEBUG sqlalchemy.engine.base.Engine Row (0, 'index', 'BIGINT', 0, None, 0)\n",
      "2020-10-31 21:12:17,625 DEBUG sqlalchemy.engine.base.Engine Row (1, 'Year', 'TEXT', 0, None, 0)\n",
      "2020-10-31 21:12:17,626 DEBUG sqlalchemy.engine.base.Engine Row (2, 'Value', 'TEXT', 0, None, 0)\n",
      "2020-10-31 21:12:17,627 INFO sqlalchemy.engine.base.Engine PRAGMA main.table_info(\"ocean_temps\")\n",
      "2020-10-31 21:12:17,628 INFO sqlalchemy.engine.base.Engine ()\n",
      "2020-10-31 21:12:17,630 DEBUG sqlalchemy.engine.base.Engine Col ('cid', 'name', 'type', 'notnull', 'dflt_value', 'pk')\n",
      "2020-10-31 21:12:17,631 DEBUG sqlalchemy.engine.base.Engine Row (0, 'index', 'BIGINT', 0, None, 0)\n",
      "2020-10-31 21:12:17,632 DEBUG sqlalchemy.engine.base.Engine Row (1, 'Year', 'TEXT', 0, None, 0)\n",
      "2020-10-31 21:12:17,632 DEBUG sqlalchemy.engine.base.Engine Row (2, 'Value', 'TEXT', 0, None, 0)\n",
      "2020-10-31 21:12:17,633 INFO sqlalchemy.engine.base.Engine SELECT name FROM sqlite_master WHERE type='table' ORDER BY name\n",
      "2020-10-31 21:12:17,634 INFO sqlalchemy.engine.base.Engine ()\n",
      "2020-10-31 21:12:17,635 DEBUG sqlalchemy.engine.base.Engine Col ('name',)\n",
      "2020-10-31 21:12:17,636 DEBUG sqlalchemy.engine.base.Engine Row ('ocean_temps',)\n",
      "2020-10-31 21:12:17,636 INFO sqlalchemy.engine.base.Engine PRAGMA main.table_xinfo(\"ocean_temps\")\n",
      "2020-10-31 21:12:17,637 INFO sqlalchemy.engine.base.Engine ()\n",
      "2020-10-31 21:12:17,638 DEBUG sqlalchemy.engine.base.Engine Col ('cid', 'name', 'type', 'notnull', 'dflt_value', 'pk', 'hidden')\n",
      "2020-10-31 21:12:17,639 DEBUG sqlalchemy.engine.base.Engine Row (0, 'index', 'BIGINT', 0, None, 0, 0)\n",
      "2020-10-31 21:12:17,640 DEBUG sqlalchemy.engine.base.Engine Row (1, 'Year', 'TEXT', 0, None, 0, 0)\n",
      "2020-10-31 21:12:17,641 DEBUG sqlalchemy.engine.base.Engine Row (2, 'Value', 'TEXT', 0, None, 0, 0)\n",
      "2020-10-31 21:12:17,642 INFO sqlalchemy.engine.base.Engine SELECT sql FROM  (SELECT * FROM sqlite_master UNION ALL   SELECT * FROM sqlite_temp_master) WHERE name = ? AND type = 'table'\n",
      "2020-10-31 21:12:17,642 INFO sqlalchemy.engine.base.Engine ('ocean_temps',)\n",
      "2020-10-31 21:12:17,645 DEBUG sqlalchemy.engine.base.Engine Col ('sql',)\n",
      "2020-10-31 21:12:17,645 DEBUG sqlalchemy.engine.base.Engine Row ('CREATE TABLE ocean_temps (\\n\\t\"index\" BIGINT, \\n\\t\"Year\" TEXT, \\n\\t\"Value\" TEXT\\n)',)\n",
      "2020-10-31 21:12:17,646 INFO sqlalchemy.engine.base.Engine PRAGMA main.foreign_key_list(\"ocean_temps\")\n",
      "2020-10-31 21:12:17,647 INFO sqlalchemy.engine.base.Engine ()\n",
      "2020-10-31 21:12:17,648 DEBUG sqlalchemy.engine.base.Engine Col ('id', 'seq', 'table', 'from', 'to', 'on_update', 'on_delete', 'match')\n",
      "2020-10-31 21:12:17,648 INFO sqlalchemy.engine.base.Engine PRAGMA temp.foreign_key_list(\"ocean_temps\")\n",
      "2020-10-31 21:12:17,649 INFO sqlalchemy.engine.base.Engine ()\n",
      "2020-10-31 21:12:17,650 DEBUG sqlalchemy.engine.base.Engine Col ('id', 'seq', 'table', 'from', 'to', 'on_update', 'on_delete', 'match')\n",
      "2020-10-31 21:12:17,651 INFO sqlalchemy.engine.base.Engine SELECT sql FROM  (SELECT * FROM sqlite_master UNION ALL   SELECT * FROM sqlite_temp_master) WHERE name = ? AND type = 'table'\n",
      "2020-10-31 21:12:17,651 INFO sqlalchemy.engine.base.Engine ('ocean_temps',)\n",
      "2020-10-31 21:12:17,654 DEBUG sqlalchemy.engine.base.Engine Col ('sql',)\n",
      "2020-10-31 21:12:17,654 DEBUG sqlalchemy.engine.base.Engine Row ('CREATE TABLE ocean_temps (\\n\\t\"index\" BIGINT, \\n\\t\"Year\" TEXT, \\n\\t\"Value\" TEXT\\n)',)\n",
      "2020-10-31 21:12:17,655 INFO sqlalchemy.engine.base.Engine PRAGMA main.index_list(\"ocean_temps\")\n",
      "2020-10-31 21:12:17,656 INFO sqlalchemy.engine.base.Engine ()\n",
      "2020-10-31 21:12:17,659 DEBUG sqlalchemy.engine.base.Engine Col ('seq', 'name', 'unique', 'origin', 'partial')\n",
      "2020-10-31 21:12:17,659 DEBUG sqlalchemy.engine.base.Engine Row (0, 'ix_ocean_temps_index', 0, 'c', 0)\n",
      "2020-10-31 21:12:17,660 INFO sqlalchemy.engine.base.Engine PRAGMA main.index_info(\"ix_ocean_temps_index\")\n",
      "2020-10-31 21:12:17,661 INFO sqlalchemy.engine.base.Engine ()\n",
      "2020-10-31 21:12:17,663 DEBUG sqlalchemy.engine.base.Engine Col ('seqno', 'cid', 'name')\n",
      "2020-10-31 21:12:17,664 DEBUG sqlalchemy.engine.base.Engine Row (0, 0, 'index')\n",
      "2020-10-31 21:12:17,665 INFO sqlalchemy.engine.base.Engine PRAGMA main.index_list(\"ocean_temps\")\n",
      "2020-10-31 21:12:17,666 INFO sqlalchemy.engine.base.Engine ()\n",
      "2020-10-31 21:12:17,667 DEBUG sqlalchemy.engine.base.Engine Col ('seq', 'name', 'unique', 'origin', 'partial')\n",
      "2020-10-31 21:12:17,669 DEBUG sqlalchemy.engine.base.Engine Row (0, 'ix_ocean_temps_index', 0, 'c', 0)\n",
      "2020-10-31 21:12:17,670 INFO sqlalchemy.engine.base.Engine PRAGMA main.index_info(\"ix_ocean_temps_index\")\n",
      "2020-10-31 21:12:17,671 INFO sqlalchemy.engine.base.Engine ()\n",
      "2020-10-31 21:12:17,673 DEBUG sqlalchemy.engine.base.Engine Col ('seqno', 'cid', 'name')\n",
      "2020-10-31 21:12:17,675 DEBUG sqlalchemy.engine.base.Engine Row (0, 0, 'index')\n",
      "2020-10-31 21:12:17,676 INFO sqlalchemy.engine.base.Engine SELECT sql FROM  (SELECT * FROM sqlite_master UNION ALL   SELECT * FROM sqlite_temp_master) WHERE name = ? AND type = 'table'\n",
      "2020-10-31 21:12:17,677 INFO sqlalchemy.engine.base.Engine ('ocean_temps',)\n",
      "2020-10-31 21:12:17,678 DEBUG sqlalchemy.engine.base.Engine Col ('sql',)\n",
      "2020-10-31 21:12:17,680 DEBUG sqlalchemy.engine.base.Engine Row ('CREATE TABLE ocean_temps (\\n\\t\"index\" BIGINT, \\n\\t\"Year\" TEXT, \\n\\t\"Value\" TEXT\\n)',)\n",
      "2020-10-31 21:12:17,682 INFO sqlalchemy.engine.base.Engine \n",
      "DROP TABLE ocean_temps\n",
      "2020-10-31 21:12:17,683 INFO sqlalchemy.engine.base.Engine ()\n",
      "2020-10-31 21:12:17,702 INFO sqlalchemy.engine.base.Engine COMMIT\n",
      "2020-10-31 21:12:17,704 INFO sqlalchemy.engine.base.Engine \n",
      "CREATE TABLE ocean_temps (\n",
      "\t\"index\" BIGINT, \n",
      "\t\"Year\" TEXT, \n",
      "\t\"Value\" TEXT\n",
      ")\n",
      "\n",
      "\n",
      "2020-10-31 21:12:17,705 INFO sqlalchemy.engine.base.Engine ()\n",
      "2020-10-31 21:12:17,726 INFO sqlalchemy.engine.base.Engine COMMIT\n",
      "2020-10-31 21:12:17,729 INFO sqlalchemy.engine.base.Engine CREATE INDEX ix_ocean_temps_index ON ocean_temps (\"index\")\n",
      "2020-10-31 21:12:17,730 INFO sqlalchemy.engine.base.Engine ()\n",
      "2020-10-31 21:12:17,747 INFO sqlalchemy.engine.base.Engine COMMIT\n",
      "2020-10-31 21:12:17,751 INFO sqlalchemy.engine.base.Engine BEGIN (implicit)\n",
      "2020-10-31 21:12:17,755 INFO sqlalchemy.engine.base.Engine INSERT INTO ocean_temps (\"index\", \"Year\", \"Value\") VALUES (?, ?, ?)\n",
      "2020-10-31 21:12:17,756 INFO sqlalchemy.engine.base.Engine ((0, '1880', '-0.11'), (1, '1881', '-0.16'), (2, '1882', '-0.1'), (3, '1883', '-0.18'), (4, '1884', '-0.29'), (5, '1885', '-0.27'), (6, '1886', '-0.28'), (7, '1887', '-0.23')  ... displaying 10 of 141 total bound parameter sets ...  (139, '2019', '0.94'), (140, '2020', '0.97'))\n",
      "2020-10-31 21:12:17,763 INFO sqlalchemy.engine.base.Engine COMMIT\n"
     ]
    }
   ],
   "source": [
    "sqlite_table = \"oceantemps\"\n",
    "oceantemps_data_df.to_sql(sqlite_table, con, if_exists='replace')#, index=True)"
   ]
  },
  {
   "cell_type": "code",
   "execution_count": 78,
   "metadata": {
    "scrolled": true
   },
   "outputs": [
    {
     "name": "stdout",
     "output_type": "stream",
     "text": [
      "dict_keys(['ocean_temps'])\n"
     ]
    }
   ],
   "source": [
    "print(Base.metadata.tables.keys())"
   ]
  },
  {
   "cell_type": "code",
   "execution_count": null,
   "metadata": {
    "scrolled": true
   },
   "outputs": [],
   "source": [
    "with engine.connect() as con:\n",
    "    con.execute('ALTER TABLE (oceantemps) ADD PRIMARY_KEY (index);')"
   ]
  },
  {
   "cell_type": "code",
   "execution_count": 79,
   "metadata": {
    "scrolled": true
   },
   "outputs": [
    {
     "ename": "AttributeError",
     "evalue": "type object 'Base' has no attribute 'classes'",
     "output_type": "error",
     "traceback": [
      "\u001b[1;31m---------------------------------------------------------------------------\u001b[0m",
      "\u001b[1;31mAttributeError\u001b[0m                            Traceback (most recent call last)",
      "\u001b[1;32m<ipython-input-79-b3e5558f5eed>\u001b[0m in \u001b[0;36m<module>\u001b[1;34m\u001b[0m\n\u001b[1;32m----> 1\u001b[1;33m \u001b[0mBase\u001b[0m\u001b[1;33m.\u001b[0m\u001b[0mclasses\u001b[0m\u001b[1;33m.\u001b[0m\u001b[0mkeys\u001b[0m\u001b[1;33m(\u001b[0m\u001b[1;33m)\u001b[0m\u001b[1;33m\u001b[0m\u001b[1;33m\u001b[0m\u001b[0m\n\u001b[0m",
      "\u001b[1;31mAttributeError\u001b[0m: type object 'Base' has no attribute 'classes'"
     ]
    }
   ],
   "source": [
    "Base.classes.keys()"
   ]
  },
  {
   "cell_type": "code",
   "execution_count": null,
   "metadata": {},
   "outputs": [],
   "source": [
    "first_row = session.query(oceantemps).first()"
   ]
  },
  {
   "cell_type": "code",
   "execution_count": null,
   "metadata": {
    "scrolled": true
   },
   "outputs": [],
   "source": [
    "print(ocean_temps.columns.keys())"
   ]
  },
  {
   "cell_type": "code",
   "execution_count": null,
   "metadata": {},
   "outputs": [],
   "source": [
    "Base = automap_base()"
   ]
  },
  {
   "cell_type": "code",
   "execution_count": null,
   "metadata": {},
   "outputs": [],
   "source": [
    "con.close()"
   ]
  },
  {
   "cell_type": "code",
   "execution_count": null,
   "metadata": {},
   "outputs": [],
   "source": [
    "Base.prepare(engine, reflect=True)"
   ]
  },
  {
   "cell_type": "code",
   "execution_count": null,
   "metadata": {},
   "outputs": [],
   "source": [
    "Base.classes.keys()"
   ]
  },
  {
   "cell_type": "code",
   "execution_count": null,
   "metadata": {},
   "outputs": [],
   "source": [
    "cleanHurr.to_sql(name='hurricanes', con=engine, if_exists='replace', index=False)\n",
    "hurrCount.to_sql(name='hurrCount', con=engine, if_exists='replace', index=False)\n",
    "oceantemps_data_df.to_sql(name='ocean_temps', con=engine, if_exists='replace', index=False)\n",
    "maxWind.to_sql(name='maxWind', con=engine, if_exists='replace', index=False)\n",
    "meancomplete_co2_df.to_sql(name='meancomplete_co2_df', con=engine, if_exists='replace', index=False)\n",
    "landfall.to_sql(name='landfall', con=engine, if_exists='replace', index=False)"
   ]
  },
  {
   "cell_type": "code",
   "execution_count": null,
   "metadata": {
    "scrolled": true
   },
   "outputs": [],
   "source": [
    "pd.read_sql('select * from ocean_temps', con)"
   ]
  },
  {
   "cell_type": "code",
   "execution_count": null,
   "metadata": {},
   "outputs": [],
   "source": [
    "# Create a database session object\n",
    "session = Session(engine)"
   ]
  },
  {
   "cell_type": "code",
   "execution_count": null,
   "metadata": {},
   "outputs": [],
   "source": [
    "inspector = inspect(engine)\n",
    "inspector.get_table_names()"
   ]
  },
  {
   "cell_type": "code",
   "execution_count": null,
   "metadata": {},
   "outputs": [],
   "source": [
    "columns = inspector.get_columns('ocean_temps')\n",
    "for c in columns:\n",
    "    print(c[\"name\"], c[\"type\"])"
   ]
  },
  {
   "cell_type": "markdown",
   "metadata": {},
   "source": [
    "DO NOT USE AFTER THIS...OLD MONGODB CODE"
   ]
  },
  {
   "cell_type": "code",
   "execution_count": null,
   "metadata": {},
   "outputs": [],
   "source": [
    "# #Define connection link an instantiate client\n",
    "# conn = 'mongodb://localhost:27017'\n",
    "# client = pymongo.MongoClient(conn)\n",
    "\n",
    "# #Define hurricane database in Mongo\n",
    "# #Define hurricane database in Mongo\n",
    "# db = client.projectDB\n",
    "\n",
    "# hurricanes = db.hurricanes\n",
    "\n",
    "# oceanTemps = db.ocean\n",
    "\n",
    "# carbon = db.carbon\n",
    "\n",
    "# perchange_co2 = db.perchange_co2\n",
    "\n",
    "# meancomplete_co2 = db.meancomplete_co2\n",
    "\n",
    "# stormpercent_change = db.stormpercent_change"
   ]
  },
  {
   "cell_type": "code",
   "execution_count": null,
   "metadata": {},
   "outputs": [],
   "source": [
    "# #Instantiate for loop for populating hurricane collection\n",
    "# for index, row in cleanHurr.iterrows():\n",
    "#     #Populate post dictionary with information to be inserted into business collection\n",
    "#     post = {\n",
    "#         \"ID\": str(row[\"ID\"]),\n",
    "#         \"Name\": str(row[\"Name\"]).strip(),\n",
    "#         \"Date\": str(row[\"Date\"]),\n",
    "#         \"Time\": str(row[\"Time\"]),\n",
    "#         \"Event\": str(row[\"Event\"]).strip(),\n",
    "#         \"Status\": str(row[\"Status\"]).strip(),\n",
    "#         \"Latitude\": str(row[\"Latitude\"]),\n",
    "#         \"Longitude\": str(row[\"Longitude\"]),\n",
    "#         \"Maximum Wind\": str(row[\"Maximum Wind\"])\n",
    "#     }\n",
    "#     #Insert data into hurricanes collection, post{} by post{}\n",
    "#     hurricanes.insert_one(post)"
   ]
  },
  {
   "cell_type": "code",
   "execution_count": null,
   "metadata": {},
   "outputs": [],
   "source": [
    "# #Instantiate for loop for populating ocean temps collection\n",
    "# for index, row in oceantemps_data_df.iterrows():\n",
    "#         post = {\n",
    "#             \"Year\": str(row[\"Year\"]),\n",
    "#             \"Value\": str(row[\"Value\"])\n",
    "#         }\n",
    "#         #Insert data into oceanTemps collection, post{} by post{}\n",
    "#         oceanTemps.insert_one(post)"
   ]
  },
  {
   "cell_type": "code",
   "execution_count": null,
   "metadata": {},
   "outputs": [],
   "source": [
    "# #Instantiate for loop for populating carbon data collection\n",
    "# for index, row in complete_co2_data_df.iterrows():\n",
    "#         post = {\n",
    "#             \"Year\": str(row[\"year\"]),\n",
    "#             \"Month\": str(row[\"month\"]),\n",
    "#             \"Date\": str(row[\"decimal_date\"]),\n",
    "#             \"Monthly Avg\": str(row[\"monthly_average\"])\n",
    "#         }\n",
    "#         #Insert data into carbon collection, post{} by post{}\n",
    "#         carbon.insert_one(post)"
   ]
  },
  {
   "cell_type": "code",
   "execution_count": null,
   "metadata": {},
   "outputs": [],
   "source": [
    "# #Instantiate for loop for populating % change co2 collection\n",
    "# for index, row in perchange_co2_df.iterrows():\n",
    "#         post = {\n",
    "#             \"Year\": str(row[\"year\"]),\n",
    "#             \"co2 Change\": str(row[\"co2change\"])\n",
    "#         }\n",
    "#         #Insert data into % change co2 collection, post{} by post{}\n",
    "#         perchange_co2.insert_one(post)"
   ]
  },
  {
   "cell_type": "code",
   "execution_count": null,
   "metadata": {},
   "outputs": [],
   "source": [
    "# #Instantiate for loop for populating mean complete co2 collection\n",
    "# for index, row in meancomplete_co2_df.iterrows():\n",
    "#         post = {\n",
    "#             \"Year\": str(row[\"year\"]),\n",
    "#             \"Mean co2\": str(row[\"meanco2\"])\n",
    "#         }\n",
    "#         #Insert data into mean complete co2 collection, post{} by post{}\n",
    "#         meancomplete_co2.insert_one(post)"
   ]
  },
  {
   "cell_type": "code",
   "execution_count": null,
   "metadata": {},
   "outputs": [],
   "source": [
    "# #Instantiate for loop for populating storm % change collection\n",
    "# for index, row in stormpercent_change_df.iterrows():\n",
    "#         post = {\n",
    "#             \"Year\": str(row[\"year\"]),\n",
    "#             \"Stormchange\": str(row[\"stormchange\"])\n",
    "#         }\n",
    "#         #Insert data into storm % change collection, post{} by post{}\n",
    "#         stormpercent_change.insert_one(post)"
   ]
  }
 ],
 "metadata": {
  "kernelspec": {
   "display_name": "Python 3",
   "language": "python",
   "name": "python3"
  },
  "language_info": {
   "codemirror_mode": {
    "name": "ipython",
    "version": 3
   },
   "file_extension": ".py",
   "mimetype": "text/x-python",
   "name": "python",
   "nbconvert_exporter": "python",
   "pygments_lexer": "ipython3",
   "version": "3.6.10"
  }
 },
 "nbformat": 4,
 "nbformat_minor": 4
}
